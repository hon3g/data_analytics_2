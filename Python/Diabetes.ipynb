{
 "cells": [
  {
   "cell_type": "code",
   "execution_count": 1,
   "metadata": {
    "id": "kjkTK6DAZQLi"
   },
   "outputs": [],
   "source": [
    "import pandas as pd\n",
    "import numpy as np\n",
    "import matplotlib.pyplot as plt\n",
    "import seaborn as sns"
   ]
  },
  {
   "cell_type": "markdown",
   "metadata": {
    "id": "cEr9squcpAJ5"
   },
   "source": [
    "# Data Exploration (EDA)"
   ]
  },
  {
   "cell_type": "code",
   "execution_count": 2,
   "metadata": {
    "id": "uTiQ59n0ZVda"
   },
   "outputs": [],
   "source": [
    "location = 'https://raw.githubusercontent.com/niteen11/cuny_lagcc_micro_credential_data_analytics/main/Track%20A/Unit%204%20-%20Machine%20Learning%20and%20Modeling%20Techniques/Dataset/diabetic_data.csv'"
   ]
  },
  {
   "cell_type": "code",
   "execution_count": 3,
   "metadata": {
    "id": "0-cSV4r9ZYIA"
   },
   "outputs": [],
   "source": [
    "df = pd.read_csv(location)"
   ]
  },
  {
   "cell_type": "code",
   "execution_count": 4,
   "metadata": {
    "id": "BCLopGfnZe0x"
   },
   "outputs": [],
   "source": [
    "# Replace all missing values '?'s with numpy nan\n",
    "\n",
    "df.replace('?', np.nan, inplace=True)"
   ]
  },
  {
   "cell_type": "code",
   "execution_count": 5,
   "metadata": {
    "colab": {
     "base_uri": "https://localhost:8080/",
     "height": 326
    },
    "id": "qgZwfNrenO8p",
    "outputId": "fa2b6721-d4f5-4c84-9380-a87e77bfe674"
   },
   "outputs": [
    {
     "data": {
      "text/html": [
       "<div>\n",
       "<style scoped>\n",
       "    .dataframe tbody tr th:only-of-type {\n",
       "        vertical-align: middle;\n",
       "    }\n",
       "\n",
       "    .dataframe tbody tr th {\n",
       "        vertical-align: top;\n",
       "    }\n",
       "\n",
       "    .dataframe thead th {\n",
       "        text-align: right;\n",
       "    }\n",
       "</style>\n",
       "<table border=\"1\" class=\"dataframe\">\n",
       "  <thead>\n",
       "    <tr style=\"text-align: right;\">\n",
       "      <th></th>\n",
       "      <th>encounter_id</th>\n",
       "      <th>patient_nbr</th>\n",
       "      <th>race</th>\n",
       "      <th>gender</th>\n",
       "      <th>age</th>\n",
       "      <th>weight</th>\n",
       "      <th>admission_type_id</th>\n",
       "      <th>discharge_disposition_id</th>\n",
       "      <th>admission_source_id</th>\n",
       "      <th>time_in_hospital</th>\n",
       "      <th>...</th>\n",
       "      <th>citoglipton</th>\n",
       "      <th>insulin</th>\n",
       "      <th>glyburide-metformin</th>\n",
       "      <th>glipizide-metformin</th>\n",
       "      <th>glimepiride-pioglitazone</th>\n",
       "      <th>metformin-rosiglitazone</th>\n",
       "      <th>metformin-pioglitazone</th>\n",
       "      <th>change</th>\n",
       "      <th>diabetesMed</th>\n",
       "      <th>readmitted</th>\n",
       "    </tr>\n",
       "  </thead>\n",
       "  <tbody>\n",
       "    <tr>\n",
       "      <th>13501</th>\n",
       "      <td>53635764</td>\n",
       "      <td>41821065</td>\n",
       "      <td>Caucasian</td>\n",
       "      <td>Female</td>\n",
       "      <td>[80-90)</td>\n",
       "      <td>NaN</td>\n",
       "      <td>1</td>\n",
       "      <td>1</td>\n",
       "      <td>7</td>\n",
       "      <td>3</td>\n",
       "      <td>...</td>\n",
       "      <td>No</td>\n",
       "      <td>No</td>\n",
       "      <td>No</td>\n",
       "      <td>No</td>\n",
       "      <td>No</td>\n",
       "      <td>No</td>\n",
       "      <td>No</td>\n",
       "      <td>No</td>\n",
       "      <td>No</td>\n",
       "      <td>&gt;30</td>\n",
       "    </tr>\n",
       "    <tr>\n",
       "      <th>15382</th>\n",
       "      <td>59094354</td>\n",
       "      <td>24365367</td>\n",
       "      <td>Caucasian</td>\n",
       "      <td>Male</td>\n",
       "      <td>[70-80)</td>\n",
       "      <td>NaN</td>\n",
       "      <td>5</td>\n",
       "      <td>1</td>\n",
       "      <td>17</td>\n",
       "      <td>4</td>\n",
       "      <td>...</td>\n",
       "      <td>No</td>\n",
       "      <td>Up</td>\n",
       "      <td>No</td>\n",
       "      <td>No</td>\n",
       "      <td>No</td>\n",
       "      <td>No</td>\n",
       "      <td>No</td>\n",
       "      <td>Ch</td>\n",
       "      <td>Yes</td>\n",
       "      <td>NO</td>\n",
       "    </tr>\n",
       "    <tr>\n",
       "      <th>70179</th>\n",
       "      <td>200832438</td>\n",
       "      <td>66570057</td>\n",
       "      <td>Caucasian</td>\n",
       "      <td>Male</td>\n",
       "      <td>[60-70)</td>\n",
       "      <td>NaN</td>\n",
       "      <td>3</td>\n",
       "      <td>1</td>\n",
       "      <td>1</td>\n",
       "      <td>3</td>\n",
       "      <td>...</td>\n",
       "      <td>No</td>\n",
       "      <td>Steady</td>\n",
       "      <td>No</td>\n",
       "      <td>No</td>\n",
       "      <td>No</td>\n",
       "      <td>No</td>\n",
       "      <td>No</td>\n",
       "      <td>No</td>\n",
       "      <td>Yes</td>\n",
       "      <td>NO</td>\n",
       "    </tr>\n",
       "    <tr>\n",
       "      <th>82841</th>\n",
       "      <td>258474552</td>\n",
       "      <td>103554054</td>\n",
       "      <td>Asian</td>\n",
       "      <td>Male</td>\n",
       "      <td>[30-40)</td>\n",
       "      <td>NaN</td>\n",
       "      <td>2</td>\n",
       "      <td>1</td>\n",
       "      <td>7</td>\n",
       "      <td>2</td>\n",
       "      <td>...</td>\n",
       "      <td>No</td>\n",
       "      <td>Up</td>\n",
       "      <td>No</td>\n",
       "      <td>No</td>\n",
       "      <td>No</td>\n",
       "      <td>No</td>\n",
       "      <td>No</td>\n",
       "      <td>Ch</td>\n",
       "      <td>Yes</td>\n",
       "      <td>NO</td>\n",
       "    </tr>\n",
       "    <tr>\n",
       "      <th>43731</th>\n",
       "      <td>134920632</td>\n",
       "      <td>92941362</td>\n",
       "      <td>Caucasian</td>\n",
       "      <td>Male</td>\n",
       "      <td>[80-90)</td>\n",
       "      <td>NaN</td>\n",
       "      <td>2</td>\n",
       "      <td>2</td>\n",
       "      <td>7</td>\n",
       "      <td>8</td>\n",
       "      <td>...</td>\n",
       "      <td>No</td>\n",
       "      <td>No</td>\n",
       "      <td>No</td>\n",
       "      <td>No</td>\n",
       "      <td>No</td>\n",
       "      <td>No</td>\n",
       "      <td>No</td>\n",
       "      <td>Ch</td>\n",
       "      <td>Yes</td>\n",
       "      <td>&gt;30</td>\n",
       "    </tr>\n",
       "  </tbody>\n",
       "</table>\n",
       "<p>5 rows × 50 columns</p>\n",
       "</div>"
      ],
      "text/plain": [
       "       encounter_id  patient_nbr       race  gender      age weight  \\\n",
       "13501      53635764     41821065  Caucasian  Female  [80-90)    NaN   \n",
       "15382      59094354     24365367  Caucasian    Male  [70-80)    NaN   \n",
       "70179     200832438     66570057  Caucasian    Male  [60-70)    NaN   \n",
       "82841     258474552    103554054      Asian    Male  [30-40)    NaN   \n",
       "43731     134920632     92941362  Caucasian    Male  [80-90)    NaN   \n",
       "\n",
       "       admission_type_id  discharge_disposition_id  admission_source_id  \\\n",
       "13501                  1                         1                    7   \n",
       "15382                  5                         1                   17   \n",
       "70179                  3                         1                    1   \n",
       "82841                  2                         1                    7   \n",
       "43731                  2                         2                    7   \n",
       "\n",
       "       time_in_hospital  ... citoglipton insulin  glyburide-metformin  \\\n",
       "13501                 3  ...          No      No                   No   \n",
       "15382                 4  ...          No      Up                   No   \n",
       "70179                 3  ...          No  Steady                   No   \n",
       "82841                 2  ...          No      Up                   No   \n",
       "43731                 8  ...          No      No                   No   \n",
       "\n",
       "       glipizide-metformin  glimepiride-pioglitazone  metformin-rosiglitazone  \\\n",
       "13501                   No                        No                       No   \n",
       "15382                   No                        No                       No   \n",
       "70179                   No                        No                       No   \n",
       "82841                   No                        No                       No   \n",
       "43731                   No                        No                       No   \n",
       "\n",
       "       metformin-pioglitazone  change diabetesMed readmitted  \n",
       "13501                      No      No          No        >30  \n",
       "15382                      No      Ch         Yes         NO  \n",
       "70179                      No      No         Yes         NO  \n",
       "82841                      No      Ch         Yes         NO  \n",
       "43731                      No      Ch         Yes        >30  \n",
       "\n",
       "[5 rows x 50 columns]"
      ]
     },
     "execution_count": 5,
     "metadata": {},
     "output_type": "execute_result"
    }
   ],
   "source": [
    "# Sample 5 rows\n",
    "\n",
    "df.sample(5)"
   ]
  },
  {
   "cell_type": "code",
   "execution_count": 6,
   "metadata": {
    "colab": {
     "base_uri": "https://localhost:8080/"
    },
    "id": "-1dSbxCuoURz",
    "outputId": "1ae53ef0-b58f-4d3f-fa20-3bc0d6d6a4c4"
   },
   "outputs": [
    {
     "name": "stdout",
     "output_type": "stream",
     "text": [
      "<class 'pandas.core.frame.DataFrame'>\n",
      "RangeIndex: 101766 entries, 0 to 101765\n",
      "Data columns (total 50 columns):\n",
      " #   Column                    Non-Null Count   Dtype \n",
      "---  ------                    --------------   ----- \n",
      " 0   encounter_id              101766 non-null  int64 \n",
      " 1   patient_nbr               101766 non-null  int64 \n",
      " 2   race                      99493 non-null   object\n",
      " 3   gender                    101766 non-null  object\n",
      " 4   age                       101766 non-null  object\n",
      " 5   weight                    3197 non-null    object\n",
      " 6   admission_type_id         101766 non-null  int64 \n",
      " 7   discharge_disposition_id  101766 non-null  int64 \n",
      " 8   admission_source_id       101766 non-null  int64 \n",
      " 9   time_in_hospital          101766 non-null  int64 \n",
      " 10  payer_code                61510 non-null   object\n",
      " 11  medical_specialty         51817 non-null   object\n",
      " 12  num_lab_procedures        101766 non-null  int64 \n",
      " 13  num_procedures            101766 non-null  int64 \n",
      " 14  num_medications           101766 non-null  int64 \n",
      " 15  number_outpatient         101766 non-null  int64 \n",
      " 16  number_emergency          101766 non-null  int64 \n",
      " 17  number_inpatient          101766 non-null  int64 \n",
      " 18  diag_1                    101745 non-null  object\n",
      " 19  diag_2                    101408 non-null  object\n",
      " 20  diag_3                    100343 non-null  object\n",
      " 21  number_diagnoses          101766 non-null  int64 \n",
      " 22  max_glu_serum             101766 non-null  object\n",
      " 23  A1Cresult                 101766 non-null  object\n",
      " 24  metformin                 101766 non-null  object\n",
      " 25  repaglinide               101766 non-null  object\n",
      " 26  nateglinide               101766 non-null  object\n",
      " 27  chlorpropamide            101766 non-null  object\n",
      " 28  glimepiride               101766 non-null  object\n",
      " 29  acetohexamide             101766 non-null  object\n",
      " 30  glipizide                 101766 non-null  object\n",
      " 31  glyburide                 101766 non-null  object\n",
      " 32  tolbutamide               101766 non-null  object\n",
      " 33  pioglitazone              101766 non-null  object\n",
      " 34  rosiglitazone             101766 non-null  object\n",
      " 35  acarbose                  101766 non-null  object\n",
      " 36  miglitol                  101766 non-null  object\n",
      " 37  troglitazone              101766 non-null  object\n",
      " 38  tolazamide                101766 non-null  object\n",
      " 39  examide                   101766 non-null  object\n",
      " 40  citoglipton               101766 non-null  object\n",
      " 41  insulin                   101766 non-null  object\n",
      " 42  glyburide-metformin       101766 non-null  object\n",
      " 43  glipizide-metformin       101766 non-null  object\n",
      " 44  glimepiride-pioglitazone  101766 non-null  object\n",
      " 45  metformin-rosiglitazone   101766 non-null  object\n",
      " 46  metformin-pioglitazone    101766 non-null  object\n",
      " 47  change                    101766 non-null  object\n",
      " 48  diabetesMed               101766 non-null  object\n",
      " 49  readmitted                101766 non-null  object\n",
      "dtypes: int64(13), object(37)\n",
      "memory usage: 38.8+ MB\n"
     ]
    }
   ],
   "source": [
    "# Get some information about the dataset\n",
    "# Show the number of Non-Null rows\n",
    "# Show the data type of each column\n",
    "\n",
    "df.info()"
   ]
  },
  {
   "cell_type": "code",
   "execution_count": 7,
   "metadata": {
    "colab": {
     "base_uri": "https://localhost:8080/",
     "height": 465
    },
    "id": "pQ5b6TSkZmiA",
    "outputId": "a15d72a1-03f5-49e1-f45a-653d26396fa9"
   },
   "outputs": [
    {
     "data": {
      "text/plain": [
       "Text(0.5, 1.0, 'NaN Data')"
      ]
     },
     "execution_count": 7,
     "metadata": {},
     "output_type": "execute_result"
    },
    {
     "data": {
      "image/png": "[encoded data removed]",
      "text/plain": [
       "<Figure size 720x360 with 1 Axes>"
      ]
     },
     "metadata": {
      "needs_background": "light"
     },
     "output_type": "display_data"
    }
   ],
   "source": [
    "# Visualize the missing data\n",
    "\n",
    "plt.figure(figsize=(10, 5))\n",
    "sns.heatmap(df.isnull(), yticklabels=False, cbar=False)\n",
    "plt.title('NaN Data')"
   ]
  },
  {
   "cell_type": "code",
   "execution_count": 8,
   "metadata": {
    "colab": {
     "base_uri": "https://localhost:8080/",
     "height": 465
    },
    "id": "gLmj-BsAZxbY",
    "outputId": "77d9b820-4336-4996-808f-c80d48510ddd"
   },
   "outputs": [
    {
     "data": {
      "text/plain": [
       "Text(0.5, 1.0, 'NaN Data')"
      ]
     },
     "execution_count": 8,
     "metadata": {},
     "output_type": "execute_result"
    },
    {
     "data": {
      "image/png": "[encoded data removed]",
      "text/plain": [
       "<Figure size 720x360 with 1 Axes>"
      ]
     },
     "metadata": {
      "needs_background": "light"
     },
     "output_type": "display_data"
    }
   ],
   "source": [
    "# Visualize the missing data in the first few columns\n",
    "\n",
    "plt.figure(figsize=(10, 5))\n",
    "sns.heatmap(df.iloc[:, :-25].isnull(), yticklabels=False, cbar=False)\n",
    "plt.title('NaN Data')"
   ]
  },
  {
   "cell_type": "code",
   "execution_count": 9,
   "metadata": {
    "colab": {
     "base_uri": "https://localhost:8080/",
     "height": 465
    },
    "id": "bNdfjaMvaCKw",
    "outputId": "47e89d8e-75ab-407d-de3e-40745ad6e83f"
   },
   "outputs": [
    {
     "data": {
      "text/plain": [
       "Text(0.5, 1.0, 'NaN Data')"
      ]
     },
     "execution_count": 9,
     "metadata": {},
     "output_type": "execute_result"
    },
    {
     "data": {
      "image/png": "[encoded data removed]",
      "text/plain": [
       "<Figure size 720x360 with 1 Axes>"
      ]
     },
     "metadata": {
      "needs_background": "light"
     },
     "output_type": "display_data"
    }
   ],
   "source": [
    "# Visualize the missing data by their sorted percentage\n",
    "\n",
    "plt.figure(figsize=(10, 5))\n",
    "missing = pd.DataFrame({'column':df.iloc[:, :-35].columns, 'na_percent':df.iloc[:, :-35].isnull().sum()/len(df)*100})\n",
    "missing.sort_values('na_percent', ascending=False, inplace=True)\n",
    "plt.bar(missing['column'], missing['na_percent'])\n",
    "plt.ylabel('%')\n",
    "plt.xticks(rotation=90)\n",
    "plt.title('NaN Data')"
   ]
  },
  {
   "cell_type": "code",
   "execution_count": 10,
   "metadata": {
    "id": "f_7Ftfzx62pQ"
   },
   "outputs": [],
   "source": [
    "# Split 'readmitted' into two classes: readmit within 30 days 1 or not 0\n",
    "\n",
    "df.loc[:, 'readmitted'] = df.loc[:, 'readmitted'].replace(\n",
    "    {\n",
    "        'NO': 0,\n",
    "       '>30': 0,\n",
    "       '<30': 1\n",
    "    }\n",
    ")"
   ]
  },
  {
   "cell_type": "code",
   "execution_count": 11,
   "metadata": {
    "colab": {
     "base_uri": "https://localhost:8080/",
     "height": 295
    },
    "id": "zrDACTTF-aV9",
    "outputId": "3f9352d7-d39c-46f2-ab0f-94635cd71a40"
   },
   "outputs": [
    {
     "data": {
      "image/png": "[encoded data removed]",
      "text/plain": [
       "<Figure size 432x288 with 1 Axes>"
      ]
     },
     "metadata": {
      "needs_background": "light"
     },
     "output_type": "display_data"
    }
   ],
   "source": [
    "# Visualize readmission rate and gender\n",
    "\n",
    "sns.countplot(x='gender', data=df, hue='readmitted')\n",
    "plt.title('Readmitted Within 30 Days')\n",
    "plt.show()"
   ]
  },
  {
   "cell_type": "code",
   "execution_count": 12,
   "metadata": {
    "colab": {
     "base_uri": "https://localhost:8080/"
    },
    "id": "8hk6L4yofMTX",
    "outputId": "dc7f0e4d-2450-42ce-87c5-2ea0339fd6e7"
   },
   "outputs": [
    {
     "data": {
      "text/plain": [
       "array(['Female', 'Male', 'Unknown/Invalid'], dtype=object)"
      ]
     },
     "execution_count": 12,
     "metadata": {},
     "output_type": "execute_result"
    }
   ],
   "source": [
    "# Get all gender types in the column\n",
    "\n",
    "df['gender'].unique()"
   ]
  },
  {
   "cell_type": "code",
   "execution_count": 13,
   "metadata": {
    "colab": {
     "base_uri": "https://localhost:8080/"
    },
    "id": "EOdyefgxapdf",
    "outputId": "6492af39-8b92-47ff-91db-b4bbf6c0c5a1"
   },
   "outputs": [
    {
     "data": {
      "text/plain": [
       "3"
      ]
     },
     "execution_count": 13,
     "metadata": {},
     "output_type": "execute_result"
    }
   ],
   "source": [
    "# Get the number of 'Unknown/Invalid' rows\n",
    "\n",
    "len(df.loc[df['gender'] == 'Unknown/Invalid'])"
   ]
  },
  {
   "cell_type": "code",
   "execution_count": 14,
   "metadata": {
    "colab": {
     "base_uri": "https://localhost:8080/",
     "height": 350
    },
    "id": "4BqIEIb_-ivf",
    "outputId": "a842bfdf-8859-40e2-8061-3de9e3933b01"
   },
   "outputs": [
    {
     "data": {
      "image/png": "[encoded data removed]",
      "text/plain": [
       "<Figure size 576x360 with 1 Axes>"
      ]
     },
     "metadata": {
      "needs_background": "light"
     },
     "output_type": "display_data"
    }
   ],
   "source": [
    "# Visualize readmission rate and race\n",
    "\n",
    "plt.figure(figsize=(8, 5))\n",
    "sns.countplot(x='race', data=df, hue='readmitted')\n",
    "plt.title('Readmitted Within 30 Days')\n",
    "plt.show()"
   ]
  },
  {
   "cell_type": "markdown",
   "metadata": {
    "id": "XCsduR-7pR7t"
   },
   "source": [
    "# Data Preparation (Wrangling/Cleaning, etc.)"
   ]
  },
  {
   "cell_type": "markdown",
   "metadata": {
    "id": "ThpR-pS5vA1M"
   },
   "source": [
    "### Remove missing values from the dataset"
   ]
  },
  {
   "cell_type": "code",
   "execution_count": 15,
   "metadata": {
    "id": "nj4PS1eydrSr"
   },
   "outputs": [],
   "source": [
    "# Drop the columns with over 10% of missing data\n",
    "df_raw = df.copy()\n",
    "df.drop(columns=['weight', 'medical_specialty', 'payer_code'], inplace=True)"
   ]
  },
  {
   "cell_type": "code",
   "execution_count": 16,
   "metadata": {
    "id": "NfXZqzZJwLlK"
   },
   "outputs": [],
   "source": [
    "# Drop rows with any missing value\n",
    "\n",
    "df.dropna(inplace=True)"
   ]
  },
  {
   "cell_type": "code",
   "execution_count": 17,
   "metadata": {
    "id": "FhIv4n3vDSFI"
   },
   "outputs": [],
   "source": [
    "# Drop the 3 'Unknown/Invalid' entries in gender\n",
    "\n",
    "df.drop(df.loc[df['gender'] == 'Unknown/Invalid'].index, inplace = True)"
   ]
  },
  {
   "cell_type": "markdown",
   "metadata": {
    "id": "LbvW1a35_PQh"
   },
   "source": [
    "### Drop ID related columns except for 'enounter_id'"
   ]
  },
  {
   "cell_type": "code",
   "execution_count": 18,
   "metadata": {
    "id": "VlNqh2jV_MlO"
   },
   "outputs": [],
   "source": [
    "ids = ['patient_nbr','admission_type_id', 'discharge_disposition_id', 'admission_source_id']\n",
    "df.drop(columns=ids, inplace=True)"
   ]
  },
  {
   "cell_type": "markdown",
   "metadata": {
    "id": "F2STYrGPFr4S"
   },
   "source": [
    "### Clean up columns 'diag_1', 'diag_2', 'diag_3'"
   ]
  },
  {
   "cell_type": "code",
   "execution_count": 19,
   "metadata": {
    "id": "INKxSBm1EnMP"
   },
   "outputs": [],
   "source": [
    "# Map diag codes with their corresponding medical conditions\n",
    "\n",
    "icd9_table = {\n",
    "  range(390, 460): 'Circulatory',\n",
    "  (785,)         : 'Circulatory',\n",
    "  range(460, 520): 'Respiratory',\n",
    "  (786,)         : 'Respiratory',\n",
    "  range(520, 580): 'Digestive',\n",
    "  (787,)         : 'Digestive',\n",
    "  (250,)         : 'Diabetes',\n",
    "  range(800,1000): 'Injury',\n",
    "  range(710, 740): 'Musculoskeletal',\n",
    "  range(580, 630): 'Genitourinary',\n",
    "  (788,)         : 'Genitourinary',\n",
    "  range(140, 240): 'Neoplasms',\n",
    "}"
   ]
  },
  {
   "cell_type": "code",
   "execution_count": 20,
   "metadata": {
    "id": "Dk5AHEFfOsUR"
   },
   "outputs": [],
   "source": [
    "# Replace 'E' and 'V' to '-'\n",
    "\n",
    "cols = ['diag_1', 'diag_2', 'diag_3']\n",
    "for col in cols:\n",
    "  df.loc[:, col] = df.loc[:, col].str.replace('E', '-')\n",
    "  df.loc[:, col] = df.loc[:, col].str.replace('V', '-')"
   ]
  },
  {
   "cell_type": "code",
   "execution_count": 21,
   "metadata": {
    "id": "jn6frLaAtv1G"
   },
   "outputs": [],
   "source": [
    "# Convert all the ICD-9 codes to type integer\n",
    "\n",
    "df.loc[:, cols] = df.loc[:, cols].astype(float).astype(int)"
   ]
  },
  {
   "cell_type": "code",
   "execution_count": 22,
   "metadata": {
    "id": "leqRtzwet2O4"
   },
   "outputs": [],
   "source": [
    "# Define a convert function\n",
    "\n",
    "def code_to_name(num, table=icd9_table):\n",
    "  for key, value in table.items():\n",
    "    if num in key:\n",
    "      return value\n",
    "  # return others if not in table    \n",
    "  return 'Other'\n",
    "\n",
    "\n",
    "# Convert all the ICD-9 codes to medical conditions\n",
    "\n",
    "for col in cols:\n",
    "  df.loc[:, col] = df.loc[:, col].apply(code_to_name)"
   ]
  },
  {
   "cell_type": "code",
   "execution_count": 23,
   "metadata": {
    "id": "q5VAbgwjUD7Y"
   },
   "outputs": [],
   "source": [
    "# Visualize conditions in all diagnoses\n",
    "\n",
    "diag_dfs = list()\n",
    "\n",
    "for col in cols:\n",
    "  d = df.groupby(col)['encounter_id'].nunique().reset_index()\n",
    "  diag_dfs.append(d)\n",
    "\n",
    "\n",
    "# Drop 'encounter_id'\n",
    "\n",
    "df.drop('encounter_id', axis=1, inplace=True)"
   ]
  },
  {
   "cell_type": "code",
   "execution_count": 24,
   "metadata": {
    "colab": {
     "base_uri": "https://localhost:8080/"
    },
    "id": "B4fxqhPKV4vS",
    "outputId": "86da665e-fa91-4a2b-a7f6-40283e8d5f48"
   },
   "outputs": [
    {
     "data": {
      "text/plain": [
       "<BarContainer object of 9 artists>"
      ]
     },
     "execution_count": 24,
     "metadata": {},
     "output_type": "execute_result"
    },
    {
     "data": {
      "image/png": "[encoded data removed]",
      "text/plain": [
       "<Figure size 432x288 with 1 Axes>"
      ]
     },
     "metadata": {
      "needs_background": "light"
     },
     "output_type": "display_data"
    }
   ],
   "source": [
    "diag_dict = dict()\n",
    "\n",
    "for frame in diag_dfs:\n",
    "  for i in range(len(frame)):\n",
    "\n",
    "    name = frame.iloc[i, 0]\n",
    "    count = frame.iloc[i, 1]\n",
    "\n",
    "    if name not in diag_dict:\n",
    "      diag_dict[name] = count\n",
    "    else:\n",
    "      diag_dict[name] += count\n",
    "\n",
    "\n",
    "names, counts = zip(*diag_dict.items())\n",
    "counts, names = zip(*sorted(zip(counts, names)))\n",
    "\n",
    "plt.barh(names, counts)"
   ]
  },
  {
   "cell_type": "markdown",
   "metadata": {
    "id": "TkiQqK5m1wr0"
   },
   "source": [
    "### Deal with the 'age' column format"
   ]
  },
  {
   "cell_type": "code",
   "execution_count": 25,
   "metadata": {
    "colab": {
     "base_uri": "https://localhost:8080/"
    },
    "id": "mnbvNzLU0sIN",
    "outputId": "3131e447-efd1-4fab-ce13-f3236d01c1a1"
   },
   "outputs": [
    {
     "data": {
      "text/plain": [
       "array(['[10-20)', '[20-30)', '[30-40)', '[40-50)', '[50-60)', '[60-70)',\n",
       "       '[70-80)', '[80-90)', '[90-100)', '[0-10)'], dtype=object)"
      ]
     },
     "execution_count": 25,
     "metadata": {},
     "output_type": "execute_result"
    }
   ],
   "source": [
    "df['age'].unique()"
   ]
  },
  {
   "cell_type": "code",
   "execution_count": 26,
   "metadata": {
    "id": "ULHp-IKo1YgS"
   },
   "outputs": [],
   "source": [
    "# Convert 'age' entries to integers by the upper bound\n",
    "\n",
    "def get_upper_age(s):\n",
    "  start = s.index('-') + 1\n",
    "  end = -1\n",
    "  return s[start:end]\n",
    "\n",
    "df.loc[:, 'age'] = df.loc[:, 'age'].apply(get_upper_age)\n",
    "df.loc[:, 'age'] = df.loc[:, 'age'].astype(int)"
   ]
  },
  {
   "cell_type": "code",
   "execution_count": 27,
   "metadata": {
    "colab": {
     "base_uri": "https://localhost:8080/"
    },
    "id": "pblFsmCd2-0e",
    "outputId": "ce8a64f9-b7ca-486e-d787-abc9150e49cb"
   },
   "outputs": [
    {
     "data": {
      "text/plain": [
       "Text(0.5, 1.0, 'Age Distribution')"
      ]
     },
     "execution_count": 27,
     "metadata": {},
     "output_type": "execute_result"
    },
    {
     "data": {
      "image/png": "[encoded data removed]",
      "text/plain": [
       "<Figure size 432x288 with 1 Axes>"
      ]
     },
     "metadata": {
      "needs_background": "light"
     },
     "output_type": "display_data"
    }
   ],
   "source": [
    "# Visualize age distribution\n",
    "\n",
    "sns.countplot(x='age', data=df, palette=['SteelBlue'])\n",
    "plt.title('Age Distribution')"
   ]
  },
  {
   "cell_type": "markdown",
   "metadata": {
    "id": "K_p4UcXtiMAV"
   },
   "source": [
    "### Format: 'A1Cresult', 'max_glu_serum', 'change', 'diabetesMed'"
   ]
  },
  {
   "cell_type": "code",
   "execution_count": 28,
   "metadata": {
    "colab": {
     "base_uri": "https://localhost:8080/"
    },
    "id": "d8z7j2ZfgMb6",
    "outputId": "e2ae1780-5aca-45be-c5a6-6b8229c30dcb"
   },
   "outputs": [
    {
     "data": {
      "text/plain": [
       "array(['None', '>7', '>8', 'Norm'], dtype=object)"
      ]
     },
     "execution_count": 28,
     "metadata": {},
     "output_type": "execute_result"
    }
   ],
   "source": [
    "df['A1Cresult'].unique()"
   ]
  },
  {
   "cell_type": "code",
   "execution_count": 29,
   "metadata": {
    "id": "h1wfE2REghY5"
   },
   "outputs": [],
   "source": [
    "df.loc[:, 'A1Cresult'] = df.loc[:, 'A1Cresult'].replace(\n",
    "    {'None': 0,\n",
    "     'Norm': 5,\n",
    "     '>7'  : 7,\n",
    "     '>8'  : 8}\n",
    ")"
   ]
  },
  {
   "cell_type": "code",
   "execution_count": 30,
   "metadata": {
    "colab": {
     "base_uri": "https://localhost:8080/"
    },
    "id": "fLwP9bbShv2y",
    "outputId": "2df315c4-efb0-4bbd-b2c4-5e1f0d1cd8d6"
   },
   "outputs": [
    {
     "data": {
      "text/plain": [
       "array(['None', '>300', 'Norm', '>200'], dtype=object)"
      ]
     },
     "execution_count": 30,
     "metadata": {},
     "output_type": "execute_result"
    }
   ],
   "source": [
    "df['max_glu_serum'].unique()"
   ]
  },
  {
   "cell_type": "code",
   "execution_count": 31,
   "metadata": {
    "id": "aKcCkWrzi1P7"
   },
   "outputs": [],
   "source": [
    "df.loc[:, 'max_glu_serum'] = df.loc[:, 'max_glu_serum'].replace(\n",
    "    {'None': 0,\n",
    "     'Norm': 100,\n",
    "     '>300': 300,\n",
    "     '>200': 200}\n",
    ")"
   ]
  },
  {
   "cell_type": "code",
   "execution_count": 32,
   "metadata": {
    "colab": {
     "base_uri": "https://localhost:8080/"
    },
    "id": "Lk9c5cWkiqcR",
    "outputId": "41010b91-b12d-4d55-a16f-c5c5bc1eb248"
   },
   "outputs": [
    {
     "data": {
      "text/plain": [
       "array(['Ch', 'No'], dtype=object)"
      ]
     },
     "execution_count": 32,
     "metadata": {},
     "output_type": "execute_result"
    }
   ],
   "source": [
    "df['change'].unique()"
   ]
  },
  {
   "cell_type": "code",
   "execution_count": 33,
   "metadata": {
    "id": "zM8-2jYIjqD4"
   },
   "outputs": [],
   "source": [
    "df.loc[:, 'change'] = df.loc[:, 'change'].replace(\n",
    "    {'No': -1,\n",
    "     'Ch': 1}\n",
    ")"
   ]
  },
  {
   "cell_type": "code",
   "execution_count": 34,
   "metadata": {
    "colab": {
     "base_uri": "https://localhost:8080/"
    },
    "id": "hC1-rOfAisxv",
    "outputId": "b9cf485a-9a37-4e63-9323-11f0d5defa87"
   },
   "outputs": [
    {
     "data": {
      "text/plain": [
       "array(['Yes', 'No'], dtype=object)"
      ]
     },
     "execution_count": 34,
     "metadata": {},
     "output_type": "execute_result"
    }
   ],
   "source": [
    "df['diabetesMed'].unique()"
   ]
  },
  {
   "cell_type": "code",
   "execution_count": 35,
   "metadata": {
    "id": "09Kzgqkciwyo"
   },
   "outputs": [],
   "source": [
    "df.loc[:, 'diabetesMed'] = df.loc[:, 'diabetesMed'].replace(\n",
    "    {'No' : -1,\n",
    "     'Yes': 1}\n",
    ")"
   ]
  },
  {
   "cell_type": "code",
   "execution_count": 36,
   "metadata": {
    "colab": {
     "base_uri": "https://localhost:8080/"
    },
    "id": "YZyguhz0AZfO",
    "outputId": "0f5e20e2-5a97-42b2-cd9c-41fd024b1cf2"
   },
   "outputs": [
    {
     "name": "stdout",
     "output_type": "stream",
     "text": [
      "<class 'pandas.core.frame.DataFrame'>\n",
      "Int64Index: 98052 entries, 1 to 101765\n",
      "Data columns (total 42 columns):\n",
      " #   Column                    Non-Null Count  Dtype \n",
      "---  ------                    --------------  ----- \n",
      " 0   race                      98052 non-null  object\n",
      " 1   gender                    98052 non-null  object\n",
      " 2   age                       98052 non-null  int64 \n",
      " 3   time_in_hospital          98052 non-null  int64 \n",
      " 4   num_lab_procedures        98052 non-null  int64 \n",
      " 5   num_procedures            98052 non-null  int64 \n",
      " 6   num_medications           98052 non-null  int64 \n",
      " 7   number_outpatient         98052 non-null  int64 \n",
      " 8   number_emergency          98052 non-null  int64 \n",
      " 9   number_inpatient          98052 non-null  int64 \n",
      " 10  diag_1                    98052 non-null  object\n",
      " 11  diag_2                    98052 non-null  object\n",
      " 12  diag_3                    98052 non-null  object\n",
      " 13  number_diagnoses          98052 non-null  int64 \n",
      " 14  max_glu_serum             98052 non-null  int64 \n",
      " 15  A1Cresult                 98052 non-null  int64 \n",
      " 16  metformin                 98052 non-null  object\n",
      " 17  repaglinide               98052 non-null  object\n",
      " 18  nateglinide               98052 non-null  object\n",
      " 19  chlorpropamide            98052 non-null  object\n",
      " 20  glimepiride               98052 non-null  object\n",
      " 21  acetohexamide             98052 non-null  object\n",
      " 22  glipizide                 98052 non-null  object\n",
      " 23  glyburide                 98052 non-null  object\n",
      " 24  tolbutamide               98052 non-null  object\n",
      " 25  pioglitazone              98052 non-null  object\n",
      " 26  rosiglitazone             98052 non-null  object\n",
      " 27  acarbose                  98052 non-null  object\n",
      " 28  miglitol                  98052 non-null  object\n",
      " 29  troglitazone              98052 non-null  object\n",
      " 30  tolazamide                98052 non-null  object\n",
      " 31  examide                   98052 non-null  object\n",
      " 32  citoglipton               98052 non-null  object\n",
      " 33  insulin                   98052 non-null  object\n",
      " 34  glyburide-metformin       98052 non-null  object\n",
      " 35  glipizide-metformin       98052 non-null  object\n",
      " 36  glimepiride-pioglitazone  98052 non-null  object\n",
      " 37  metformin-rosiglitazone   98052 non-null  object\n",
      " 38  metformin-pioglitazone    98052 non-null  object\n",
      " 39  change                    98052 non-null  int64 \n",
      " 40  diabetesMed               98052 non-null  int64 \n",
      " 41  readmitted                98052 non-null  int64 \n",
      "dtypes: int64(14), object(28)\n",
      "memory usage: 34.2+ MB\n"
     ]
    }
   ],
   "source": [
    "df.info()"
   ]
  },
  {
   "cell_type": "markdown",
   "metadata": {
    "id": "SD5usQpIlURV"
   },
   "source": [
    "### Format the columns from 'metformin' to 'metformin-pioglitazone' related to medications"
   ]
  },
  {
   "cell_type": "code",
   "execution_count": 37,
   "metadata": {
    "colab": {
     "base_uri": "https://localhost:8080/"
    },
    "id": "PICtZlk3lsbI",
    "outputId": "f43f87e6-7fee-4410-9cda-07020ac2f720"
   },
   "outputs": [
    {
     "name": "stdout",
     "output_type": "stream",
     "text": [
      "['No' 'Steady' 'Up' 'Down']\n",
      "['No' 'Up' 'Steady' 'Down']\n",
      "['No' 'Steady' 'Down' 'Up']\n",
      "['No' 'Steady' 'Down' 'Up']\n",
      "['No' 'Steady' 'Down' 'Up']\n",
      "['No' 'Steady']\n",
      "['No' 'Steady' 'Up' 'Down']\n",
      "['No' 'Steady' 'Up' 'Down']\n",
      "['No' 'Steady']\n",
      "['No' 'Steady' 'Up' 'Down']\n",
      "['No' 'Steady' 'Up' 'Down']\n",
      "['No' 'Steady' 'Up' 'Down']\n",
      "['No' 'Steady' 'Down' 'Up']\n",
      "['No' 'Steady']\n",
      "['No' 'Steady' 'Up']\n",
      "['No']\n",
      "['No']\n",
      "['Up' 'No' 'Steady' 'Down']\n",
      "['No' 'Steady' 'Down' 'Up']\n",
      "['No' 'Steady']\n",
      "['No' 'Steady']\n",
      "['No']\n",
      "['No' 'Steady']\n"
     ]
    }
   ],
   "source": [
    "# Print distinct values in each medication column\n",
    "\n",
    "def get_meds(frame):\n",
    "  col_ls = list(frame.columns)\n",
    "  start = col_ls.index('metformin')\n",
    "  end = col_ls.index('metformin-pioglitazone') + 1\n",
    "  return start, end\n",
    "\n",
    "start, end = get_meds(df)\n",
    "\n",
    "for col in df.iloc[:, start:end].columns:\n",
    "  print(df[col].unique())"
   ]
  },
  {
   "cell_type": "code",
   "execution_count": 38,
   "metadata": {
    "id": "1kOYneoxmHz1"
   },
   "outputs": [],
   "source": [
    "# Drop the columns with uniform rows\n",
    "\n",
    "start, end = get_meds(df)\n",
    "\n",
    "for col in df.iloc[:, start:end].columns:\n",
    "  if len(df[col].unique()) == 1:\n",
    "    df.drop(columns=col, inplace=True)"
   ]
  },
  {
   "cell_type": "code",
   "execution_count": 39,
   "metadata": {
    "id": "zHdwu5LPop2E"
   },
   "outputs": [],
   "source": [
    "# Format remaining medication columns (21 to 40)\n",
    "\n",
    "start, end = get_meds(df)\n",
    "\n",
    "for col in df.iloc[:, start:end].columns:\n",
    "  df.loc[:, col] = df.loc[:, col].replace(\n",
    "    {'No'    : -20,\n",
    "     'Down'  : -10,\n",
    "     'Steady': 0,\n",
    "     'Up'    : 10}\n",
    "  )"
   ]
  },
  {
   "cell_type": "markdown",
   "metadata": {
    "id": "zOSnwynVr2qK"
   },
   "source": [
    "### Encode remaining dtype 'object' columns"
   ]
  },
  {
   "cell_type": "code",
   "execution_count": 40,
   "metadata": {
    "colab": {
     "base_uri": "https://localhost:8080/"
    },
    "id": "PVqS4CUQp4Qj",
    "outputId": "2cd28182-af87-4d17-b263-269466ffb73c"
   },
   "outputs": [
    {
     "data": {
      "text/plain": [
       "Index(['race', 'gender', 'diag_1', 'diag_2', 'diag_3'], dtype='object')"
      ]
     },
     "execution_count": 40,
     "metadata": {},
     "output_type": "execute_result"
    }
   ],
   "source": [
    "df.select_dtypes('object').columns"
   ]
  },
  {
   "cell_type": "code",
   "execution_count": 41,
   "metadata": {
    "id": "t_GGi-6Aq466"
   },
   "outputs": [],
   "source": [
    "# Convert categorical variable into dummy/indicator variables\n",
    "\n",
    "obj_cols = df.select_dtypes('object').columns\n",
    "\n",
    "for col in obj_cols:\n",
    "  df = pd.concat([df.drop(col, axis=1), pd.get_dummies(df[col])], axis=1)"
   ]
  },
  {
   "cell_type": "markdown",
   "metadata": {
    "id": "u11tdT265Qw3"
   },
   "source": [
    "# Build and Evaluate Models"
   ]
  },
  {
   "cell_type": "markdown",
   "metadata": {
    "id": "i09cippiP7nN"
   },
   "source": [
    "### Logistic Regression"
   ]
  },
  {
   "cell_type": "code",
   "execution_count": 42,
   "metadata": {
    "colab": {
     "base_uri": "https://localhost:8080/",
     "height": 241
    },
    "id": "K8An9O_S0PqK",
    "outputId": "abd5b4db-1a87-4685-9cf0-947cc9f74451"
   },
   "outputs": [
    {
     "data": {
      "text/html": [
       "<div>\n",
       "<style scoped>\n",
       "    .dataframe tbody tr th:only-of-type {\n",
       "        vertical-align: middle;\n",
       "    }\n",
       "\n",
       "    .dataframe tbody tr th {\n",
       "        vertical-align: top;\n",
       "    }\n",
       "\n",
       "    .dataframe thead th {\n",
       "        text-align: right;\n",
       "    }\n",
       "</style>\n",
       "<table border=\"1\" class=\"dataframe\">\n",
       "  <thead>\n",
       "    <tr style=\"text-align: right;\">\n",
       "      <th></th>\n",
       "      <th>age</th>\n",
       "      <th>time_in_hospital</th>\n",
       "      <th>num_lab_procedures</th>\n",
       "      <th>num_procedures</th>\n",
       "      <th>num_medications</th>\n",
       "      <th>number_outpatient</th>\n",
       "      <th>number_emergency</th>\n",
       "      <th>number_inpatient</th>\n",
       "      <th>number_diagnoses</th>\n",
       "      <th>max_glu_serum</th>\n",
       "      <th>...</th>\n",
       "      <th>Respiratory</th>\n",
       "      <th>Circulatory</th>\n",
       "      <th>Diabetes</th>\n",
       "      <th>Digestive</th>\n",
       "      <th>Genitourinary</th>\n",
       "      <th>Injury</th>\n",
       "      <th>Musculoskeletal</th>\n",
       "      <th>Neoplasms</th>\n",
       "      <th>Other</th>\n",
       "      <th>Respiratory</th>\n",
       "    </tr>\n",
       "  </thead>\n",
       "  <tbody>\n",
       "    <tr>\n",
       "      <th>92953</th>\n",
       "      <td>70</td>\n",
       "      <td>10</td>\n",
       "      <td>45</td>\n",
       "      <td>1</td>\n",
       "      <td>29</td>\n",
       "      <td>1</td>\n",
       "      <td>1</td>\n",
       "      <td>2</td>\n",
       "      <td>9</td>\n",
       "      <td>0</td>\n",
       "      <td>...</td>\n",
       "      <td>1</td>\n",
       "      <td>1</td>\n",
       "      <td>0</td>\n",
       "      <td>0</td>\n",
       "      <td>0</td>\n",
       "      <td>0</td>\n",
       "      <td>0</td>\n",
       "      <td>0</td>\n",
       "      <td>0</td>\n",
       "      <td>0</td>\n",
       "    </tr>\n",
       "    <tr>\n",
       "      <th>97094</th>\n",
       "      <td>90</td>\n",
       "      <td>4</td>\n",
       "      <td>28</td>\n",
       "      <td>1</td>\n",
       "      <td>15</td>\n",
       "      <td>0</td>\n",
       "      <td>0</td>\n",
       "      <td>0</td>\n",
       "      <td>5</td>\n",
       "      <td>0</td>\n",
       "      <td>...</td>\n",
       "      <td>0</td>\n",
       "      <td>0</td>\n",
       "      <td>1</td>\n",
       "      <td>0</td>\n",
       "      <td>0</td>\n",
       "      <td>0</td>\n",
       "      <td>0</td>\n",
       "      <td>0</td>\n",
       "      <td>0</td>\n",
       "      <td>0</td>\n",
       "    </tr>\n",
       "    <tr>\n",
       "      <th>57468</th>\n",
       "      <td>40</td>\n",
       "      <td>2</td>\n",
       "      <td>39</td>\n",
       "      <td>3</td>\n",
       "      <td>36</td>\n",
       "      <td>0</td>\n",
       "      <td>0</td>\n",
       "      <td>0</td>\n",
       "      <td>8</td>\n",
       "      <td>0</td>\n",
       "      <td>...</td>\n",
       "      <td>0</td>\n",
       "      <td>0</td>\n",
       "      <td>0</td>\n",
       "      <td>0</td>\n",
       "      <td>1</td>\n",
       "      <td>0</td>\n",
       "      <td>0</td>\n",
       "      <td>0</td>\n",
       "      <td>0</td>\n",
       "      <td>0</td>\n",
       "    </tr>\n",
       "    <tr>\n",
       "      <th>42456</th>\n",
       "      <td>70</td>\n",
       "      <td>5</td>\n",
       "      <td>38</td>\n",
       "      <td>0</td>\n",
       "      <td>15</td>\n",
       "      <td>0</td>\n",
       "      <td>0</td>\n",
       "      <td>0</td>\n",
       "      <td>4</td>\n",
       "      <td>0</td>\n",
       "      <td>...</td>\n",
       "      <td>0</td>\n",
       "      <td>0</td>\n",
       "      <td>1</td>\n",
       "      <td>0</td>\n",
       "      <td>0</td>\n",
       "      <td>0</td>\n",
       "      <td>0</td>\n",
       "      <td>0</td>\n",
       "      <td>0</td>\n",
       "      <td>0</td>\n",
       "    </tr>\n",
       "    <tr>\n",
       "      <th>23657</th>\n",
       "      <td>70</td>\n",
       "      <td>3</td>\n",
       "      <td>69</td>\n",
       "      <td>6</td>\n",
       "      <td>22</td>\n",
       "      <td>0</td>\n",
       "      <td>0</td>\n",
       "      <td>0</td>\n",
       "      <td>7</td>\n",
       "      <td>0</td>\n",
       "      <td>...</td>\n",
       "      <td>0</td>\n",
       "      <td>1</td>\n",
       "      <td>0</td>\n",
       "      <td>0</td>\n",
       "      <td>0</td>\n",
       "      <td>0</td>\n",
       "      <td>0</td>\n",
       "      <td>0</td>\n",
       "      <td>0</td>\n",
       "      <td>0</td>\n",
       "    </tr>\n",
       "  </tbody>\n",
       "</table>\n",
       "<p>5 rows × 68 columns</p>\n",
       "</div>"
      ],
      "text/plain": [
       "       age  time_in_hospital  num_lab_procedures  num_procedures  \\\n",
       "92953   70                10                  45               1   \n",
       "97094   90                 4                  28               1   \n",
       "57468   40                 2                  39               3   \n",
       "42456   70                 5                  38               0   \n",
       "23657   70                 3                  69               6   \n",
       "\n",
       "       num_medications  number_outpatient  number_emergency  number_inpatient  \\\n",
       "92953               29                  1                 1                 2   \n",
       "97094               15                  0                 0                 0   \n",
       "57468               36                  0                 0                 0   \n",
       "42456               15                  0                 0                 0   \n",
       "23657               22                  0                 0                 0   \n",
       "\n",
       "       number_diagnoses  max_glu_serum  ...  Respiratory  Circulatory  \\\n",
       "92953                 9              0  ...            1            1   \n",
       "97094                 5              0  ...            0            0   \n",
       "57468                 8              0  ...            0            0   \n",
       "42456                 4              0  ...            0            0   \n",
       "23657                 7              0  ...            0            1   \n",
       "\n",
       "       Diabetes  Digestive  Genitourinary  Injury  Musculoskeletal  Neoplasms  \\\n",
       "92953         0          0              0       0                0          0   \n",
       "97094         1          0              0       0                0          0   \n",
       "57468         0          0              1       0                0          0   \n",
       "42456         1          0              0       0                0          0   \n",
       "23657         0          0              0       0                0          0   \n",
       "\n",
       "       Other  Respiratory  \n",
       "92953      0            0  \n",
       "97094      0            0  \n",
       "57468      0            0  \n",
       "42456      0            0  \n",
       "23657      0            0  \n",
       "\n",
       "[5 rows x 68 columns]"
      ]
     },
     "execution_count": 42,
     "metadata": {},
     "output_type": "execute_result"
    }
   ],
   "source": [
    "df.sample(5)"
   ]
  },
  {
   "cell_type": "code",
   "execution_count": 43,
   "metadata": {
    "id": "VigUT6YQ6i1F"
   },
   "outputs": [],
   "source": [
    "# Create X (all columns except target)\n",
    "X = df.drop('readmitted', axis=1)\n",
    "\n",
    "# Create y (only the target column)\n",
    "y = df.loc[:, 'readmitted']"
   ]
  },
  {
   "cell_type": "code",
   "execution_count": 44,
   "metadata": {
    "id": "LHrSgZOd8U6s"
   },
   "outputs": [],
   "source": [
    "# Import train_test_split from sklearn's model_selection module\n",
    "from sklearn.model_selection import train_test_split\n",
    "\n",
    "# Split X and y into train and test sets\n",
    "X_train, X_test, y_train, y_test = train_test_split(X, y, test_size=0.25, random_state=88)"
   ]
  },
  {
   "cell_type": "code",
   "execution_count": 45,
   "metadata": {
    "colab": {
     "base_uri": "https://localhost:8080/"
    },
    "id": "FlnHHfnl98Zh",
    "outputId": "5b901460-74c3-44eb-c24b-e60d6e2b1eee"
   },
   "outputs": [
    {
     "data": {
      "text/plain": [
       "((73539, 67), (24513, 67), (73539,), (24513,))"
      ]
     },
     "execution_count": 45,
     "metadata": {},
     "output_type": "execute_result"
    }
   ],
   "source": [
    "# View the different shapes of the training and test datasets\n",
    "\n",
    "X_train.shape, X_test.shape, y_train.shape, y_test.shape"
   ]
  },
  {
   "cell_type": "code",
   "execution_count": 46,
   "metadata": {
    "id": "5ay7Syqw-Fhz"
   },
   "outputs": [],
   "source": [
    "# Import LogisticRegression from sklearn's linear_model\n",
    "\n",
    "from sklearn.linear_model import LogisticRegression"
   ]
  },
  {
   "cell_type": "code",
   "execution_count": 47,
   "metadata": {
    "id": "lvyv9t6I-fxV"
   },
   "outputs": [],
   "source": [
    "# Create an instance of LogisticRegression as log\n",
    "\n",
    "log = LogisticRegression(solver='liblinear',random_state=88)"
   ]
  },
  {
   "cell_type": "code",
   "execution_count": 48,
   "metadata": {
    "colab": {
     "base_uri": "https://localhost:8080/"
    },
    "id": "t6Li6R6u-wOG",
    "outputId": "62597997-9a53-428e-ffe8-4d7010d97bb9"
   },
   "outputs": [
    {
     "data": {
      "text/plain": [
       "LogisticRegression(random_state=88, solver='liblinear')"
      ]
     },
     "execution_count": 48,
     "metadata": {},
     "output_type": "execute_result"
    }
   ],
   "source": [
    "# Fit the LogisticRegression to the training data\n",
    "\n",
    "log.fit(X_train, y_train)"
   ]
  },
  {
   "cell_type": "code",
   "execution_count": 49,
   "metadata": {
    "id": "9mFXS0oi_EN2"
   },
   "outputs": [],
   "source": [
    "# Use the fitted model to make predictions on the test data and\n",
    "# store the predictions to a variable called predict\n",
    "\n",
    "predict = log.predict(X_test)"
   ]
  },
  {
   "cell_type": "code",
   "execution_count": 50,
   "metadata": {
    "colab": {
     "base_uri": "https://localhost:8080/"
    },
    "id": "AbrC7m94HtNw",
    "outputId": "96db6533-496e-40a9-ab08-6e85a223f7b2"
   },
   "outputs": [
    {
     "data": {
      "text/plain": [
       "0.8861828417574348"
      ]
     },
     "execution_count": 50,
     "metadata": {},
     "output_type": "execute_result"
    }
   ],
   "source": [
    "log.score(X_test, y_test)"
   ]
  },
  {
   "cell_type": "code",
   "execution_count": 51,
   "metadata": {
    "colab": {
     "base_uri": "https://localhost:8080/"
    },
    "id": "CGS_uEfKE47i",
    "outputId": "a10dc75a-ec29-471f-bbc2-cfc3a982d9ab"
   },
   "outputs": [
    {
     "name": "stdout",
     "output_type": "stream",
     "text": [
      "[[21683    55]\n",
      " [ 2735    40]]\n"
     ]
    }
   ],
   "source": [
    "# Import confusion_matrix from sklearn's metrics module\n",
    "from sklearn.metrics import confusion_matrix\n",
    "\n",
    "# # Fit the test labels and predictions into confusion_matrix and\n",
    "# print the matrix\n",
    "print(confusion_matrix(y_test, predict))"
   ]
  },
  {
   "cell_type": "code",
   "execution_count": 52,
   "metadata": {
    "colab": {
     "base_uri": "https://localhost:8080/",
     "height": 397
    },
    "id": "QBAalExfFWwu",
    "outputId": "67c8b853-cc2c-4ad3-a70f-b95fa679e723"
   },
   "outputs": [
    {
     "data": {
      "text/plain": [
       "Text(0.5, 1.0, 'Logistic Regression \\n Accuracy 0.89\\n')"
      ]
     },
     "execution_count": 52,
     "metadata": {},
     "output_type": "execute_result"
    },
    {
     "data": {
      "image/png": "[encoded data removed]",
      "text/plain": [
       "<Figure size 432x360 with 2 Axes>"
      ]
     },
     "metadata": {
      "needs_background": "light"
     },
     "output_type": "display_data"
    }
   ],
   "source": [
    "# Make confusion matrix more visual\n",
    "def plot_conf_mat(y_test, y_preds):\n",
    "    \"\"\"\n",
    "    Plots a confusion matrix using Seaborn's heatmap().\n",
    "    \"\"\"\n",
    "    fig, ax = plt.subplots(figsize=(6, 5))\n",
    "    ax = sns.heatmap(confusion_matrix(y_test, y_preds),\n",
    "                     annot=True, # Annotate the boxes\n",
    "                     cbar=True,\n",
    "                     cmap='GnBu')\n",
    "    plt.xlabel(\"Predicted label\")\n",
    "    plt.ylabel(\"True label\")\n",
    "\n",
    "\n",
    "# Call plot_conf_mat with the test labels and predictions\n",
    "plot_conf_mat(y_test, predict)\n",
    "\n",
    "\n",
    "# Give the matrix a title\n",
    "score = round(log.score(X_test, y_test), 2)\n",
    "plt.title(f'Logistic Regression \\n Accuracy {score}\\n')"
   ]
  },
  {
   "cell_type": "code",
   "execution_count": 53,
   "metadata": {
    "colab": {
     "base_uri": "https://localhost:8080/"
    },
    "id": "a1rdWyRaBoM6",
    "outputId": "f568cc80-e531-411f-f7b3-db82eaa21d68"
   },
   "outputs": [
    {
     "name": "stdout",
     "output_type": "stream",
     "text": [
      "              precision    recall  f1-score   support\n",
      "\n",
      "           0       0.89      1.00      0.94     21738\n",
      "           1       0.42      0.01      0.03      2775\n",
      "\n",
      "    accuracy                           0.89     24513\n",
      "   macro avg       0.65      0.51      0.48     24513\n",
      "weighted avg       0.84      0.89      0.84     24513\n",
      "\n"
     ]
    }
   ],
   "source": [
    "# Import classification_report from sklearn's metrics module\n",
    "from sklearn.metrics import classification_report\n",
    "\n",
    "# Fit the test labels and predictions into classification_report and\n",
    "# print the report\n",
    "print(classification_report(y_test,predict))"
   ]
  },
  {
   "cell_type": "markdown",
   "metadata": {
    "id": "XxB1yicFF1-E"
   },
   "source": [
    "**Precision** - Indicates the proportion of positive identifications (model predicted class 1) which were actually correct. A model which produces no false positives has a precision of 1.0.\n",
    "\n",
    "**Recall** - Indicates the proportion of actual positives which were correctly classified. A model which produces no false negatives has a recall of 1.0.\n",
    "\n",
    "**/F1 score** - A combination of precision and recall. A perfect model achieves an F1 score of 1.0.\n",
    "\n",
    "**Support** - The number of samples each metric was calculated on.\n",
    "\n",
    "**Accuracy** - The accuracy of the model in decimal form. Perfect accuracy is equal to 1.0.\n",
    "\n",
    "**Macro avg** - Short for macro average, the average precision, recall and F1 score between classes. Macro avg doesn’t class imbalance into effort, so if you do have class imbalances, pay attention to this metric.\n",
    "\n",
    "**Weighted avg** - Short for weighted average, the weighted average precision, recall and F1 score between classes. Weighted means each metric is calculated with respect to how many samples there are in each class. This metric will favour the majority class (e.g. will give a high value when one class out performs another due to having more samples)."
   ]
  },
  {
   "cell_type": "markdown",
   "metadata": {
    "id": "Q8kbrspDUw6Y"
   },
   "source": [
    "![1_pOtBHai4jFd-ujaNXPilRg.png](data:image/png;base64,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)"
   ]
  },
  {
   "cell_type": "code",
   "execution_count": 54,
   "metadata": {
    "colab": {
     "base_uri": "https://localhost:8080/",
     "height": 296
    },
    "id": "0edYcM5_F3Nz",
    "outputId": "40433c02-42e7-42ba-9690-c33bda5166a4"
   },
   "outputs": [
    {
     "data": {
      "text/plain": [
       "<sklearn.metrics._plot.roc_curve.RocCurveDisplay at 0x7febd0b60400>"
      ]
     },
     "execution_count": 54,
     "metadata": {},
     "output_type": "execute_result"
    },
    {
     "data": {
      "image/png": "[encoded data removed]",
      "text/plain": [
       "<Figure size 432x288 with 1 Axes>"
      ]
     },
     "metadata": {
      "needs_background": "light"
     },
     "output_type": "display_data"
    }
   ],
   "source": [
    "# Import plot_roc_curve from sklearn's metrics module\n",
    "from sklearn.metrics import plot_roc_curve\n",
    "\n",
    "# Plot a ROC curve using our current model using plot_roc_curve\n",
    "plot_roc_curve(log, X_test, y_test)"
   ]
  },
  {
   "cell_type": "markdown",
   "metadata": {
    "id": "g2lIH26tQHNI"
   },
   "source": [
    "### K-Nearest Neighbors"
   ]
  },
  {
   "cell_type": "code",
   "execution_count": 55,
   "metadata": {
    "colab": {
     "base_uri": "https://localhost:8080/",
     "height": 52
    },
    "id": "8lK-SjAgWalX",
    "outputId": "881fb3e2-143a-43c7-ef23-893255b81deb"
   },
   "outputs": [
    {
     "data": {
      "text/plain": [
       "'https://stackabuse.com/k-nearest-neighbors-algorithm-in-python-and-scikit-learn/#:~:text=The%20K-nearest%20neighbors%20(KNN,performs%20quite%20complex%20classification%20tasks.&text=KNN%20is%20a%20non-parametric,anything%20about%20the%20underlying%20data.'"
      ]
     },
     "execution_count": 55,
     "metadata": {},
     "output_type": "execute_result"
    }
   ],
   "source": [
    "'https://stackabuse.com/k-nearest-neighbors-algorithm-in-python-and-scikit-learn/#:~:text=The%20K-nearest%20neighbors%20(KNN,performs%20quite%20complex%20classification%20tasks.&text=KNN%20is%20a%20non-parametric,anything%20about%20the%20underlying%20data.'"
   ]
  },
  {
   "cell_type": "code",
   "execution_count": 56,
   "metadata": {
    "id": "DtKAltGOTRY7"
   },
   "outputs": [],
   "source": [
    "# Import KNeighborsClassifier frrom sklearn's neighbors module\n",
    "from sklearn.neighbors import KNeighborsClassifier\n",
    "\n",
    "# Create an instance of KNeighborsClassifier as knc\n",
    "knc = KNeighborsClassifier(n_neighbors=7)"
   ]
  },
  {
   "cell_type": "code",
   "execution_count": 57,
   "metadata": {
    "colab": {
     "base_uri": "https://localhost:8080/"
    },
    "id": "YF-4jHVFQpCw",
    "outputId": "9e04d051-854d-4d1b-ef35-515934494fff"
   },
   "outputs": [
    {
     "data": {
      "text/plain": [
       "KNeighborsClassifier(n_neighbors=7)"
      ]
     },
     "execution_count": 57,
     "metadata": {},
     "output_type": "execute_result"
    }
   ],
   "source": [
    "# Fit the KNeighborsClassifier to the training data\n",
    "\n",
    "knc.fit(X_train, y_train)"
   ]
  },
  {
   "cell_type": "code",
   "execution_count": 58,
   "metadata": {
    "id": "uvOwvXL6Q9oh"
   },
   "outputs": [],
   "source": [
    "# Use the fitted model to make predictions on the test data and\n",
    "# store the predictions to a variable called pred\n",
    "\n",
    "pred = knc.predict(X_test)"
   ]
  },
  {
   "cell_type": "code",
   "execution_count": 59,
   "metadata": {
    "colab": {
     "base_uri": "https://localhost:8080/"
    },
    "id": "Keitr9XdRU0R",
    "outputId": "23d81df2-290a-459c-c8c4-9d2c88d1fe53"
   },
   "outputs": [
    {
     "data": {
      "text/plain": [
       "0.8835311875331456"
      ]
     },
     "execution_count": 59,
     "metadata": {},
     "output_type": "execute_result"
    }
   ],
   "source": [
    "knc.score(X_test, y_test)"
   ]
  },
  {
   "cell_type": "code",
   "execution_count": 60,
   "metadata": {
    "colab": {
     "base_uri": "https://localhost:8080/"
    },
    "id": "htFY2BiWRgkJ",
    "outputId": "33280505-fb16-4209-bea6-e1dc58cbe37b"
   },
   "outputs": [
    {
     "name": "stdout",
     "output_type": "stream",
     "text": [
      "[[21625   113]\n",
      " [ 2742    33]]\n"
     ]
    }
   ],
   "source": [
    "# # Fit the test labels and predictions into confusion_matrix and\n",
    "# print the matrix\n",
    "print(confusion_matrix(y_test, pred))"
   ]
  },
  {
   "cell_type": "code",
   "execution_count": 61,
   "metadata": {
    "colab": {
     "base_uri": "https://localhost:8080/",
     "height": 397
    },
    "id": "lziK-htdRppJ",
    "outputId": "9c16007a-3780-4b69-9b1a-95361c1a587f"
   },
   "outputs": [
    {
     "data": {
      "text/plain": [
       "Text(0.5, 1.0, 'K-Neighbors \\n Accuracy 0.89\\n')"
      ]
     },
     "execution_count": 61,
     "metadata": {},
     "output_type": "execute_result"
    },
    {
     "data": {
      "image/png": "[encoded data removed]",
      "text/plain": [
       "<Figure size 432x360 with 2 Axes>"
      ]
     },
     "metadata": {
      "needs_background": "light"
     },
     "output_type": "display_data"
    }
   ],
   "source": [
    "# Call plot_conf_mat with the test labels and predictions\n",
    "plot_conf_mat(y_test, pred)\n",
    "\n",
    "\n",
    "# Give the matrix a title\n",
    "score = round(log.score(X_test, y_test), 2)\n",
    "plt.title(f'K-Neighbors \\n Accuracy {score}\\n')"
   ]
  },
  {
   "cell_type": "code",
   "execution_count": 62,
   "metadata": {
    "colab": {
     "base_uri": "https://localhost:8080/"
    },
    "id": "mdRMREKZRw7Z",
    "outputId": "21bd62f7-b2b3-4a92-ca1b-af3e2f95f3b7"
   },
   "outputs": [
    {
     "name": "stdout",
     "output_type": "stream",
     "text": [
      "              precision    recall  f1-score   support\n",
      "\n",
      "           0       0.89      0.99      0.94     21738\n",
      "           1       0.23      0.01      0.02      2775\n",
      "\n",
      "    accuracy                           0.88     24513\n",
      "   macro avg       0.56      0.50      0.48     24513\n",
      "weighted avg       0.81      0.88      0.83     24513\n",
      "\n"
     ]
    }
   ],
   "source": [
    "# Fit the test labels and predictions into classification_report and\n",
    "# print the report\n",
    "print(classification_report(y_test,pred))"
   ]
  },
  {
   "cell_type": "code",
   "execution_count": 63,
   "metadata": {
    "colab": {
     "base_uri": "https://localhost:8080/",
     "height": 296
    },
    "id": "n7S4fMafSALR",
    "outputId": "163069f0-c73d-423d-e4f2-f24641a58d3f"
   },
   "outputs": [
    {
     "data": {
      "text/plain": [
       "<sklearn.metrics._plot.roc_curve.RocCurveDisplay at 0x7febd1de5730>"
      ]
     },
     "execution_count": 63,
     "metadata": {},
     "output_type": "execute_result"
    },
    {
     "data": {
      "image/png": "[encoded data removed]",
      "text/plain": [
       "<Figure size 432x288 with 1 Axes>"
      ]
     },
     "metadata": {
      "needs_background": "light"
     },
     "output_type": "display_data"
    }
   ],
   "source": [
    "# Plot a ROC curve using our current model using plot_roc_curve\n",
    "plot_roc_curve(knc, X_test, y_test)"
   ]
  },
  {
   "cell_type": "code",
   "execution_count": null,
   "metadata": {},
   "outputs": [],
   "source": []
  },
  {
   "cell_type": "code",
   "execution_count": null,
   "metadata": {},
   "outputs": [],
   "source": []
  },
  {
   "cell_type": "code",
   "execution_count": null,
   "metadata": {},
   "outputs": [],
   "source": []
  },
  {
   "cell_type": "code",
   "execution_count": null,
   "metadata": {},
   "outputs": [],
   "source": []
  },
  {
   "cell_type": "code",
   "execution_count": null,
   "metadata": {},
   "outputs": [],
   "source": []
  },
  {
   "cell_type": "code",
   "execution_count": null,
   "metadata": {},
   "outputs": [],
   "source": []
  },
  {
   "cell_type": "code",
   "execution_count": null,
   "metadata": {},
   "outputs": [],
   "source": []
  },
  {
   "cell_type": "code",
   "execution_count": null,
   "metadata": {},
   "outputs": [],
   "source": []
  },
  {
   "cell_type": "code",
   "execution_count": null,
   "metadata": {},
   "outputs": [],
   "source": []
  },
  {
   "cell_type": "code",
   "execution_count": null,
   "metadata": {},
   "outputs": [],
   "source": []
  },
  {
   "cell_type": "code",
   "execution_count": null,
   "metadata": {},
   "outputs": [],
   "source": []
  },
  {
   "cell_type": "code",
   "execution_count": null,
   "metadata": {},
   "outputs": [],
   "source": []
  },
  {
   "cell_type": "code",
   "execution_count": null,
   "metadata": {},
   "outputs": [],
   "source": []
  },
  {
   "cell_type": "code",
   "execution_count": null,
   "metadata": {},
   "outputs": [],
   "source": []
  },
  {
   "cell_type": "code",
   "execution_count": null,
   "metadata": {},
   "outputs": [],
   "source": []
  },
  {
   "cell_type": "code",
   "execution_count": null,
   "metadata": {},
   "outputs": [],
   "source": []
  },
  {
   "cell_type": "code",
   "execution_count": null,
   "metadata": {},
   "outputs": [],
   "source": []
  },
  {
   "cell_type": "code",
   "execution_count": null,
   "metadata": {},
   "outputs": [],
   "source": []
  },
  {
   "cell_type": "code",
   "execution_count": null,
   "metadata": {},
   "outputs": [],
   "source": []
  },
  {
   "cell_type": "code",
   "execution_count": null,
   "metadata": {},
   "outputs": [],
   "source": []
  },
  {
   "cell_type": "code",
   "execution_count": null,
   "metadata": {},
   "outputs": [],
   "source": []
  },
  {
   "cell_type": "code",
   "execution_count": null,
   "metadata": {},
   "outputs": [],
   "source": []
  },
  {
   "cell_type": "code",
   "execution_count": null,
   "metadata": {},
   "outputs": [],
   "source": []
  },
  {
   "cell_type": "code",
   "execution_count": null,
   "metadata": {},
   "outputs": [],
   "source": []
  },
  {
   "cell_type": "code",
   "execution_count": null,
   "metadata": {},
   "outputs": [],
   "source": []
  },
  {
   "cell_type": "code",
   "execution_count": null,
   "metadata": {},
   "outputs": [],
   "source": []
  },
  {
   "cell_type": "code",
   "execution_count": null,
   "metadata": {},
   "outputs": [],
   "source": []
  },
  {
   "cell_type": "code",
   "execution_count": null,
   "metadata": {},
   "outputs": [],
   "source": []
  }
 ],
 "metadata": {
  "colab": {
   "name": "Diabetes.ipynb",
   "provenance": []
  },
  "kernelspec": {
   "display_name": "Python 3",
   "language": "python",
   "name": "python3"
  },
  "language_info": {
   "codemirror_mode": {
    "name": "ipython",
    "version": 3
   },
   "file_extension": ".py",
   "mimetype": "text/x-python",
   "name": "python",
   "nbconvert_exporter": "python",
   "pygments_lexer": "ipython3",
   "version": "3.8.5"
  }
 },
 "nbformat": 4,
 "nbformat_minor": 1
}
