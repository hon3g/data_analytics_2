{
  "nbformat": 4,
  "nbformat_minor": 0,
  "metadata": {
    "colab": {
      "name": "Diabetes.ipynb",
      "provenance": []
    },
    "kernelspec": {
      "name": "python3",
      "display_name": "Python 3"
    }
  },
  "cells": [
    {
      "cell_type": "code",
      "metadata": {
        "id": "kjkTK6DAZQLi"
      },
      "source": [
        "import pandas as pd\r\n",
        "import numpy as np\r\n",
        "import matplotlib.pyplot as plt\r\n",
        "import seaborn as sns"
      ],
      "execution_count": null,
      "outputs": []
    },
    {
      "cell_type": "markdown",
      "metadata": {
        "id": "cEr9squcpAJ5"
      },
      "source": [
        "# Data Exploration (EDA)"
      ]
    },
    {
      "cell_type": "code",
      "metadata": {
        "id": "uTiQ59n0ZVda"
      },
      "source": [
        "location = 'https://raw.githubusercontent.com/niteen11/cuny_lagcc_micro_credential_data_analytics/main/Track%20A/Unit%204%20-%20Machine%20Learning%20and%20Modeling%20Techniques/Dataset/diabetic_data.csv'"
      ],
      "execution_count": null,
      "outputs": []
    },
    {
      "cell_type": "code",
      "metadata": {
        "id": "0-cSV4r9ZYIA"
      },
      "source": [
        "df = pd.read_csv(location)"
      ],
      "execution_count": null,
      "outputs": []
    },
    {
      "cell_type": "code",
      "metadata": {
        "id": "BCLopGfnZe0x"
      },
      "source": [
        "# Replace all missing values '?'s with numpy nan\r\n",
        "\r\n",
        "df.replace('?', np.nan, inplace=True)"
      ],
      "execution_count": null,
      "outputs": []
    },
    {
      "cell_type": "code",
      "metadata": {
        "colab": {
          "base_uri": "https://localhost:8080/",
          "height": 326
        },
        "id": "qgZwfNrenO8p",
        "outputId": "fa2b6721-d4f5-4c84-9380-a87e77bfe674"
      },
      "source": [
        "# Sample 5 rows\n",
        "\n",
        "df.sample(5)"
      ],
      "execution_count": null,
      "outputs": [
        {
          "output_type": "execute_result",
          "data": {
            "text/html": [
              "<div>\n",
              "<style scoped>\n",
              "    .dataframe tbody tr th:only-of-type {\n",
              "        vertical-align: middle;\n",
              "    }\n",
              "\n",
              "    .dataframe tbody tr th {\n",
              "        vertical-align: top;\n",
              "    }\n",
              "\n",
              "    .dataframe thead th {\n",
              "        text-align: right;\n",
              "    }\n",
              "</style>\n",
              "<table border=\"1\" class=\"dataframe\">\n",
              "  <thead>\n",
              "    <tr style=\"text-align: right;\">\n",
              "      <th></th>\n",
              "      <th>encounter_id</th>\n",
              "      <th>patient_nbr</th>\n",
              "      <th>race</th>\n",
              "      <th>gender</th>\n",
              "      <th>age</th>\n",
              "      <th>weight</th>\n",
              "      <th>admission_type_id</th>\n",
              "      <th>discharge_disposition_id</th>\n",
              "      <th>admission_source_id</th>\n",
              "      <th>time_in_hospital</th>\n",
              "      <th>payer_code</th>\n",
              "      <th>medical_specialty</th>\n",
              "      <th>num_lab_procedures</th>\n",
              "      <th>num_procedures</th>\n",
              "      <th>num_medications</th>\n",
              "      <th>number_outpatient</th>\n",
              "      <th>number_emergency</th>\n",
              "      <th>number_inpatient</th>\n",
              "      <th>diag_1</th>\n",
              "      <th>diag_2</th>\n",
              "      <th>diag_3</th>\n",
              "      <th>number_diagnoses</th>\n",
              "      <th>max_glu_serum</th>\n",
              "      <th>A1Cresult</th>\n",
              "      <th>metformin</th>\n",
              "      <th>repaglinide</th>\n",
              "      <th>nateglinide</th>\n",
              "      <th>chlorpropamide</th>\n",
              "      <th>glimepiride</th>\n",
              "      <th>acetohexamide</th>\n",
              "      <th>glipizide</th>\n",
              "      <th>glyburide</th>\n",
              "      <th>tolbutamide</th>\n",
              "      <th>pioglitazone</th>\n",
              "      <th>rosiglitazone</th>\n",
              "      <th>acarbose</th>\n",
              "      <th>miglitol</th>\n",
              "      <th>troglitazone</th>\n",
              "      <th>tolazamide</th>\n",
              "      <th>examide</th>\n",
              "      <th>citoglipton</th>\n",
              "      <th>insulin</th>\n",
              "      <th>glyburide-metformin</th>\n",
              "      <th>glipizide-metformin</th>\n",
              "      <th>glimepiride-pioglitazone</th>\n",
              "      <th>metformin-rosiglitazone</th>\n",
              "      <th>metformin-pioglitazone</th>\n",
              "      <th>change</th>\n",
              "      <th>diabetesMed</th>\n",
              "      <th>readmitted</th>\n",
              "    </tr>\n",
              "  </thead>\n",
              "  <tbody>\n",
              "    <tr>\n",
              "      <th>11357</th>\n",
              "      <td>47009754</td>\n",
              "      <td>11381517</td>\n",
              "      <td>AfricanAmerican</td>\n",
              "      <td>Male</td>\n",
              "      <td>[50-60)</td>\n",
              "      <td>NaN</td>\n",
              "      <td>1</td>\n",
              "      <td>18</td>\n",
              "      <td>7</td>\n",
              "      <td>6</td>\n",
              "      <td>NaN</td>\n",
              "      <td>Family/GeneralPractice</td>\n",
              "      <td>52</td>\n",
              "      <td>2</td>\n",
              "      <td>6</td>\n",
              "      <td>0</td>\n",
              "      <td>0</td>\n",
              "      <td>1</td>\n",
              "      <td>250.6</td>\n",
              "      <td>790</td>\n",
              "      <td>682</td>\n",
              "      <td>9</td>\n",
              "      <td>None</td>\n",
              "      <td>&gt;8</td>\n",
              "      <td>No</td>\n",
              "      <td>No</td>\n",
              "      <td>No</td>\n",
              "      <td>No</td>\n",
              "      <td>No</td>\n",
              "      <td>No</td>\n",
              "      <td>No</td>\n",
              "      <td>No</td>\n",
              "      <td>No</td>\n",
              "      <td>No</td>\n",
              "      <td>No</td>\n",
              "      <td>No</td>\n",
              "      <td>No</td>\n",
              "      <td>No</td>\n",
              "      <td>No</td>\n",
              "      <td>No</td>\n",
              "      <td>No</td>\n",
              "      <td>Steady</td>\n",
              "      <td>No</td>\n",
              "      <td>No</td>\n",
              "      <td>No</td>\n",
              "      <td>No</td>\n",
              "      <td>No</td>\n",
              "      <td>No</td>\n",
              "      <td>Yes</td>\n",
              "      <td>&gt;30</td>\n",
              "    </tr>\n",
              "    <tr>\n",
              "      <th>76058</th>\n",
              "      <td>229204380</td>\n",
              "      <td>2200428</td>\n",
              "      <td>Caucasian</td>\n",
              "      <td>Female</td>\n",
              "      <td>[70-80)</td>\n",
              "      <td>NaN</td>\n",
              "      <td>3</td>\n",
              "      <td>1</td>\n",
              "      <td>1</td>\n",
              "      <td>1</td>\n",
              "      <td>NaN</td>\n",
              "      <td>NaN</td>\n",
              "      <td>18</td>\n",
              "      <td>6</td>\n",
              "      <td>15</td>\n",
              "      <td>0</td>\n",
              "      <td>0</td>\n",
              "      <td>0</td>\n",
              "      <td>414</td>\n",
              "      <td>427</td>\n",
              "      <td>427</td>\n",
              "      <td>8</td>\n",
              "      <td>None</td>\n",
              "      <td>None</td>\n",
              "      <td>No</td>\n",
              "      <td>No</td>\n",
              "      <td>No</td>\n",
              "      <td>No</td>\n",
              "      <td>No</td>\n",
              "      <td>No</td>\n",
              "      <td>No</td>\n",
              "      <td>No</td>\n",
              "      <td>No</td>\n",
              "      <td>No</td>\n",
              "      <td>Steady</td>\n",
              "      <td>No</td>\n",
              "      <td>No</td>\n",
              "      <td>No</td>\n",
              "      <td>No</td>\n",
              "      <td>No</td>\n",
              "      <td>No</td>\n",
              "      <td>Steady</td>\n",
              "      <td>No</td>\n",
              "      <td>No</td>\n",
              "      <td>No</td>\n",
              "      <td>No</td>\n",
              "      <td>No</td>\n",
              "      <td>Ch</td>\n",
              "      <td>Yes</td>\n",
              "      <td>&gt;30</td>\n",
              "    </tr>\n",
              "    <tr>\n",
              "      <th>36321</th>\n",
              "      <td>111772980</td>\n",
              "      <td>53576127</td>\n",
              "      <td>Caucasian</td>\n",
              "      <td>Female</td>\n",
              "      <td>[20-30)</td>\n",
              "      <td>NaN</td>\n",
              "      <td>1</td>\n",
              "      <td>1</td>\n",
              "      <td>7</td>\n",
              "      <td>1</td>\n",
              "      <td>NaN</td>\n",
              "      <td>NaN</td>\n",
              "      <td>69</td>\n",
              "      <td>0</td>\n",
              "      <td>6</td>\n",
              "      <td>3</td>\n",
              "      <td>0</td>\n",
              "      <td>0</td>\n",
              "      <td>250.11</td>\n",
              "      <td>530</td>\n",
              "      <td>NaN</td>\n",
              "      <td>2</td>\n",
              "      <td>None</td>\n",
              "      <td>&gt;7</td>\n",
              "      <td>No</td>\n",
              "      <td>No</td>\n",
              "      <td>No</td>\n",
              "      <td>No</td>\n",
              "      <td>No</td>\n",
              "      <td>No</td>\n",
              "      <td>No</td>\n",
              "      <td>No</td>\n",
              "      <td>No</td>\n",
              "      <td>No</td>\n",
              "      <td>No</td>\n",
              "      <td>No</td>\n",
              "      <td>No</td>\n",
              "      <td>No</td>\n",
              "      <td>No</td>\n",
              "      <td>No</td>\n",
              "      <td>No</td>\n",
              "      <td>Steady</td>\n",
              "      <td>No</td>\n",
              "      <td>No</td>\n",
              "      <td>No</td>\n",
              "      <td>No</td>\n",
              "      <td>No</td>\n",
              "      <td>No</td>\n",
              "      <td>Yes</td>\n",
              "      <td>NO</td>\n",
              "    </tr>\n",
              "    <tr>\n",
              "      <th>58840</th>\n",
              "      <td>166252524</td>\n",
              "      <td>95298138</td>\n",
              "      <td>Caucasian</td>\n",
              "      <td>Female</td>\n",
              "      <td>[80-90)</td>\n",
              "      <td>NaN</td>\n",
              "      <td>2</td>\n",
              "      <td>3</td>\n",
              "      <td>7</td>\n",
              "      <td>5</td>\n",
              "      <td>MC</td>\n",
              "      <td>Emergency/Trauma</td>\n",
              "      <td>79</td>\n",
              "      <td>3</td>\n",
              "      <td>31</td>\n",
              "      <td>0</td>\n",
              "      <td>2</td>\n",
              "      <td>0</td>\n",
              "      <td>410</td>\n",
              "      <td>428</td>\n",
              "      <td>518</td>\n",
              "      <td>9</td>\n",
              "      <td>None</td>\n",
              "      <td>&gt;7</td>\n",
              "      <td>No</td>\n",
              "      <td>No</td>\n",
              "      <td>No</td>\n",
              "      <td>No</td>\n",
              "      <td>No</td>\n",
              "      <td>No</td>\n",
              "      <td>No</td>\n",
              "      <td>No</td>\n",
              "      <td>No</td>\n",
              "      <td>No</td>\n",
              "      <td>No</td>\n",
              "      <td>No</td>\n",
              "      <td>No</td>\n",
              "      <td>No</td>\n",
              "      <td>No</td>\n",
              "      <td>No</td>\n",
              "      <td>No</td>\n",
              "      <td>Down</td>\n",
              "      <td>No</td>\n",
              "      <td>No</td>\n",
              "      <td>No</td>\n",
              "      <td>No</td>\n",
              "      <td>No</td>\n",
              "      <td>Ch</td>\n",
              "      <td>Yes</td>\n",
              "      <td>&lt;30</td>\n",
              "    </tr>\n",
              "    <tr>\n",
              "      <th>76449</th>\n",
              "      <td>230794458</td>\n",
              "      <td>49081275</td>\n",
              "      <td>Caucasian</td>\n",
              "      <td>Male</td>\n",
              "      <td>[60-70)</td>\n",
              "      <td>NaN</td>\n",
              "      <td>2</td>\n",
              "      <td>1</td>\n",
              "      <td>7</td>\n",
              "      <td>4</td>\n",
              "      <td>NaN</td>\n",
              "      <td>NaN</td>\n",
              "      <td>55</td>\n",
              "      <td>3</td>\n",
              "      <td>10</td>\n",
              "      <td>35</td>\n",
              "      <td>0</td>\n",
              "      <td>2</td>\n",
              "      <td>584</td>\n",
              "      <td>276</td>\n",
              "      <td>599</td>\n",
              "      <td>9</td>\n",
              "      <td>None</td>\n",
              "      <td>None</td>\n",
              "      <td>No</td>\n",
              "      <td>No</td>\n",
              "      <td>No</td>\n",
              "      <td>No</td>\n",
              "      <td>No</td>\n",
              "      <td>No</td>\n",
              "      <td>No</td>\n",
              "      <td>No</td>\n",
              "      <td>No</td>\n",
              "      <td>No</td>\n",
              "      <td>No</td>\n",
              "      <td>No</td>\n",
              "      <td>No</td>\n",
              "      <td>No</td>\n",
              "      <td>No</td>\n",
              "      <td>No</td>\n",
              "      <td>No</td>\n",
              "      <td>Up</td>\n",
              "      <td>No</td>\n",
              "      <td>No</td>\n",
              "      <td>No</td>\n",
              "      <td>No</td>\n",
              "      <td>No</td>\n",
              "      <td>Ch</td>\n",
              "      <td>Yes</td>\n",
              "      <td>&gt;30</td>\n",
              "    </tr>\n",
              "  </tbody>\n",
              "</table>\n",
              "</div>"
            ],
            "text/plain": [
              "       encounter_id  patient_nbr             race  ... change diabetesMed readmitted\n",
              "11357      47009754     11381517  AfricanAmerican  ...     No         Yes        >30\n",
              "76058     229204380      2200428        Caucasian  ...     Ch         Yes        >30\n",
              "36321     111772980     53576127        Caucasian  ...     No         Yes         NO\n",
              "58840     166252524     95298138        Caucasian  ...     Ch         Yes        <30\n",
              "76449     230794458     49081275        Caucasian  ...     Ch         Yes        >30\n",
              "\n",
              "[5 rows x 50 columns]"
            ]
          },
          "metadata": {
            "tags": []
          },
          "execution_count": 5
        }
      ]
    },
    {
      "cell_type": "code",
      "metadata": {
        "colab": {
          "base_uri": "https://localhost:8080/"
        },
        "id": "-1dSbxCuoURz",
        "outputId": "1ae53ef0-b58f-4d3f-fa20-3bc0d6d6a4c4"
      },
      "source": [
        "# Get some information about the dataset\r\n",
        "# Show the number of Non-Null rows\r\n",
        "# Show the data type of each column\r\n",
        "\r\n",
        "df.info()"
      ],
      "execution_count": null,
      "outputs": [
        {
          "output_type": "stream",
          "text": [
            "<class 'pandas.core.frame.DataFrame'>\n",
            "RangeIndex: 101766 entries, 0 to 101765\n",
            "Data columns (total 50 columns):\n",
            " #   Column                    Non-Null Count   Dtype \n",
            "---  ------                    --------------   ----- \n",
            " 0   encounter_id              101766 non-null  int64 \n",
            " 1   patient_nbr               101766 non-null  int64 \n",
            " 2   race                      99493 non-null   object\n",
            " 3   gender                    101766 non-null  object\n",
            " 4   age                       101766 non-null  object\n",
            " 5   weight                    3197 non-null    object\n",
            " 6   admission_type_id         101766 non-null  int64 \n",
            " 7   discharge_disposition_id  101766 non-null  int64 \n",
            " 8   admission_source_id       101766 non-null  int64 \n",
            " 9   time_in_hospital          101766 non-null  int64 \n",
            " 10  payer_code                61510 non-null   object\n",
            " 11  medical_specialty         51817 non-null   object\n",
            " 12  num_lab_procedures        101766 non-null  int64 \n",
            " 13  num_procedures            101766 non-null  int64 \n",
            " 14  num_medications           101766 non-null  int64 \n",
            " 15  number_outpatient         101766 non-null  int64 \n",
            " 16  number_emergency          101766 non-null  int64 \n",
            " 17  number_inpatient          101766 non-null  int64 \n",
            " 18  diag_1                    101745 non-null  object\n",
            " 19  diag_2                    101408 non-null  object\n",
            " 20  diag_3                    100343 non-null  object\n",
            " 21  number_diagnoses          101766 non-null  int64 \n",
            " 22  max_glu_serum             101766 non-null  object\n",
            " 23  A1Cresult                 101766 non-null  object\n",
            " 24  metformin                 101766 non-null  object\n",
            " 25  repaglinide               101766 non-null  object\n",
            " 26  nateglinide               101766 non-null  object\n",
            " 27  chlorpropamide            101766 non-null  object\n",
            " 28  glimepiride               101766 non-null  object\n",
            " 29  acetohexamide             101766 non-null  object\n",
            " 30  glipizide                 101766 non-null  object\n",
            " 31  glyburide                 101766 non-null  object\n",
            " 32  tolbutamide               101766 non-null  object\n",
            " 33  pioglitazone              101766 non-null  object\n",
            " 34  rosiglitazone             101766 non-null  object\n",
            " 35  acarbose                  101766 non-null  object\n",
            " 36  miglitol                  101766 non-null  object\n",
            " 37  troglitazone              101766 non-null  object\n",
            " 38  tolazamide                101766 non-null  object\n",
            " 39  examide                   101766 non-null  object\n",
            " 40  citoglipton               101766 non-null  object\n",
            " 41  insulin                   101766 non-null  object\n",
            " 42  glyburide-metformin       101766 non-null  object\n",
            " 43  glipizide-metformin       101766 non-null  object\n",
            " 44  glimepiride-pioglitazone  101766 non-null  object\n",
            " 45  metformin-rosiglitazone   101766 non-null  object\n",
            " 46  metformin-pioglitazone    101766 non-null  object\n",
            " 47  change                    101766 non-null  object\n",
            " 48  diabetesMed               101766 non-null  object\n",
            " 49  readmitted                101766 non-null  object\n",
            "dtypes: int64(13), object(37)\n",
            "memory usage: 38.8+ MB\n"
          ],
          "name": "stdout"
        }
      ]
    },
    {
      "cell_type": "code",
      "metadata": {
        "colab": {
          "base_uri": "https://localhost:8080/",
          "height": 465
        },
        "id": "pQ5b6TSkZmiA",
        "outputId": "a15d72a1-03f5-49e1-f45a-653d26396fa9"
      },
      "source": [
        "# Visualize the missing data\r\n",
        "\r\n",
        "plt.figure(figsize=(10, 5))\r\n",
        "sns.heatmap(df.isnull(), yticklabels=False, cbar=False)\r\n",
        "plt.title('NaN Data')"
      ],
      "execution_count": null,
      "outputs": [
        {
          "output_type": "execute_result",
          "data": {
            "text/plain": [
              "Text(0.5, 1.0, 'NaN Data')"
            ]
          },
          "metadata": {
            "tags": []
          },
          "execution_count": 7
        },
        {
          "output_type": "display_data",
          "data": {
            "image/png": "[encoded data removed]",
            "text/plain": [
              "<Figure size 720x360 with 1 Axes>"
            ]
          },
          "metadata": {
            "tags": [],
            "needs_background": "light"
          }
        }
      ]
    },
    {
      "cell_type": "code",
      "metadata": {
        "colab": {
          "base_uri": "https://localhost:8080/",
          "height": 465
        },
        "id": "gLmj-BsAZxbY",
        "outputId": "77d9b820-4336-4996-808f-c80d48510ddd"
      },
      "source": [
        "# Visualize the missing data in the first few columns\r\n",
        "\r\n",
        "plt.figure(figsize=(10, 5))\r\n",
        "sns.heatmap(df.iloc[:, :-25].isnull(), yticklabels=False, cbar=False)\r\n",
        "plt.title('NaN Data')"
      ],
      "execution_count": null,
      "outputs": [
        {
          "output_type": "execute_result",
          "data": {
            "text/plain": [
              "Text(0.5, 1.0, 'NaN Data')"
            ]
          },
          "metadata": {
            "tags": []
          },
          "execution_count": 8
        },
        {
          "output_type": "display_data",
          "data": {
            "image/png": "[encoded data removed]",
            "text/plain": [
              "<Figure size 720x360 with 1 Axes>"
            ]
          },
          "metadata": {
            "tags": [],
            "needs_background": "light"
          }
        }
      ]
    },
    {
      "cell_type": "code",
      "metadata": {
        "colab": {
          "base_uri": "https://localhost:8080/",
          "height": 465
        },
        "id": "bNdfjaMvaCKw",
        "outputId": "47e89d8e-75ab-407d-de3e-40745ad6e83f"
      },
      "source": [
        "# Visualize the missing data by their sorted percentage\r\n",
        "\r\n",
        "plt.figure(figsize=(10, 5))\r\n",
        "missing = pd.DataFrame({'column':df.iloc[:, :-35].columns, 'na_percent':df.iloc[:, :-35].isnull().sum()/len(df)*100})\r\n",
        "missing.sort_values('na_percent', ascending=False, inplace=True)\r\n",
        "plt.bar(missing['column'], missing['na_percent'])\r\n",
        "plt.ylabel('%')\r\n",
        "plt.xticks(rotation=90)\r\n",
        "plt.title('NaN Data')"
      ],
      "execution_count": null,
      "outputs": [
        {
          "output_type": "execute_result",
          "data": {
            "text/plain": [
              "Text(0.5, 1.0, 'NaN Data')"
            ]
          },
          "metadata": {
            "tags": []
          },
          "execution_count": 9
        },
        {
          "output_type": "display_data",
          "data": {
            "image/png": "[encoded data removed]",
            "text/plain": [
              "<Figure size 720x360 with 1 Axes>"
            ]
          },
          "metadata": {
            "tags": [],
            "needs_background": "light"
          }
        }
      ]
    },
    {
      "cell_type": "code",
      "metadata": {
        "id": "f_7Ftfzx62pQ"
      },
      "source": [
        "# Split 'readmitted' into two classes: readmit within 30 days 1 or not 0\r\n",
        "\r\n",
        "df.loc[:, 'readmitted'] = df.loc[:, 'readmitted'].replace(\r\n",
        "    {\r\n",
        "        'NO': 0,\r\n",
        "       '>30': 0,\r\n",
        "       '<30': 1\r\n",
        "    }\r\n",
        ")"
      ],
      "execution_count": null,
      "outputs": []
    },
    {
      "cell_type": "code",
      "metadata": {
        "colab": {
          "base_uri": "https://localhost:8080/",
          "height": 295
        },
        "id": "zrDACTTF-aV9",
        "outputId": "3f9352d7-d39c-46f2-ab0f-94635cd71a40"
      },
      "source": [
        "# Visualize readmission rate and gender\r\n",
        "\r\n",
        "sns.countplot(x='gender', data=df, hue='readmitted')\r\n",
        "plt.title('Readmitted Within 30 Days')\r\n",
        "plt.show()"
      ],
      "execution_count": null,
      "outputs": [
        {
          "output_type": "display_data",
          "data": {
            "image/png": "[encoded data removed]",
            "text/plain": [
              "<Figure size 432x288 with 1 Axes>"
            ]
          },
          "metadata": {
            "tags": [],
            "needs_background": "light"
          }
        }
      ]
    },
    {
      "cell_type": "code",
      "metadata": {
        "colab": {
          "base_uri": "https://localhost:8080/"
        },
        "id": "8hk6L4yofMTX",
        "outputId": "dc7f0e4d-2450-42ce-87c5-2ea0339fd6e7"
      },
      "source": [
        "# Get all gender types in the column\r\n",
        "\r\n",
        "df['gender'].unique()"
      ],
      "execution_count": null,
      "outputs": [
        {
          "output_type": "execute_result",
          "data": {
            "text/plain": [
              "array(['Female', 'Male', 'Unknown/Invalid'], dtype=object)"
            ]
          },
          "metadata": {
            "tags": []
          },
          "execution_count": 12
        }
      ]
    },
    {
      "cell_type": "code",
      "metadata": {
        "colab": {
          "base_uri": "https://localhost:8080/"
        },
        "id": "EOdyefgxapdf",
        "outputId": "6492af39-8b92-47ff-91db-b4bbf6c0c5a1"
      },
      "source": [
        "# Get the number of 'Unknown/Invalid' rows\r\n",
        "\r\n",
        "len(df.loc[df['gender'] == 'Unknown/Invalid'])"
      ],
      "execution_count": null,
      "outputs": [
        {
          "output_type": "execute_result",
          "data": {
            "text/plain": [
              "3"
            ]
          },
          "metadata": {
            "tags": []
          },
          "execution_count": 13
        }
      ]
    },
    {
      "cell_type": "code",
      "metadata": {
        "colab": {
          "base_uri": "https://localhost:8080/",
          "height": 350
        },
        "id": "4BqIEIb_-ivf",
        "outputId": "a842bfdf-8859-40e2-8061-3de9e3933b01"
      },
      "source": [
        "# Visualize readmission rate and race\r\n",
        "\r\n",
        "plt.figure(figsize=(8, 5))\r\n",
        "sns.countplot(x='race', data=df, hue='readmitted')\r\n",
        "plt.title('Readmitted Within 30 Days')\r\n",
        "plt.show()"
      ],
      "execution_count": null,
      "outputs": [
        {
          "output_type": "display_data",
          "data": {
            "image/png": "[encoded data removed]",
            "text/plain": [
              "<Figure size 576x360 with 1 Axes>"
            ]
          },
          "metadata": {
            "tags": [],
            "needs_background": "light"
          }
        }
      ]
    },
    {
      "cell_type": "markdown",
      "metadata": {
        "id": "XCsduR-7pR7t"
      },
      "source": [
        "# Data Preparation (Wrangling/Cleaning, etc.)"
      ]
    },
    {
      "cell_type": "markdown",
      "metadata": {
        "id": "ThpR-pS5vA1M"
      },
      "source": [
        "### Remove missing values from the dataset"
      ]
    },
    {
      "cell_type": "code",
      "metadata": {
        "id": "nj4PS1eydrSr"
      },
      "source": [
        "# Drop the columns with over 10% of missing data\r\n",
        "df_raw = df.copy()\r\n",
        "df.drop(columns=['weight', 'medical_specialty', 'payer_code'], inplace=True)"
      ],
      "execution_count": null,
      "outputs": []
    },
    {
      "cell_type": "code",
      "metadata": {
        "id": "NfXZqzZJwLlK"
      },
      "source": [
        "# Drop rows with any missing value\r\n",
        "\r\n",
        "df.dropna(inplace=True)"
      ],
      "execution_count": null,
      "outputs": []
    },
    {
      "cell_type": "code",
      "metadata": {
        "id": "FhIv4n3vDSFI"
      },
      "source": [
        "# Drop the 3 'Unknown/Invalid' entries in gender\r\n",
        "\r\n",
        "df.drop(df.loc[df['gender'] == 'Unknown/Invalid'].index, inplace = True)"
      ],
      "execution_count": null,
      "outputs": []
    },
    {
      "cell_type": "markdown",
      "metadata": {
        "id": "LbvW1a35_PQh"
      },
      "source": [
        "### Drop ID related columns except for 'enounter_id'"
      ]
    },
    {
      "cell_type": "code",
      "metadata": {
        "id": "VlNqh2jV_MlO"
      },
      "source": [
        "ids = ['patient_nbr','admission_type_id', 'discharge_disposition_id', 'admission_source_id']\r\n",
        "df.drop(columns=ids, inplace=True)"
      ],
      "execution_count": null,
      "outputs": []
    },
    {
      "cell_type": "markdown",
      "metadata": {
        "id": "F2STYrGPFr4S"
      },
      "source": [
        "### Clean up columns 'diag_1', 'diag_2', 'diag_3'"
      ]
    },
    {
      "cell_type": "code",
      "metadata": {
        "id": "INKxSBm1EnMP"
      },
      "source": [
        "# Map diag codes with their corresponding medical conditions\r\n",
        "\r\n",
        "icd9_table = {\r\n",
        "  range(390, 460): 'Circulatory',\r\n",
        "  (785,)         : 'Circulatory',\r\n",
        "  range(460, 520): 'Respiratory',\r\n",
        "  (786,)         : 'Respiratory',\r\n",
        "  range(520, 580): 'Digestive',\r\n",
        "  (787,)         : 'Digestive',\r\n",
        "  (250,)         : 'Diabetes',\r\n",
        "  range(800,1000): 'Injury',\r\n",
        "  range(710, 740): 'Musculoskeletal',\r\n",
        "  range(580, 630): 'Genitourinary',\r\n",
        "  (788,)         : 'Genitourinary',\r\n",
        "  range(140, 240): 'Neoplasms',\r\n",
        "}"
      ],
      "execution_count": null,
      "outputs": []
    },
    {
      "cell_type": "code",
      "metadata": {
        "id": "Dk5AHEFfOsUR"
      },
      "source": [
        "# Replace 'E' and 'V' to '-'\n",
        "\n",
        "cols = ['diag_1', 'diag_2', 'diag_3']\n",
        "for col in cols:\n",
        "  df.loc[:, col] = df.loc[:, col].str.replace('E', '-')\n",
        "  df.loc[:, col] = df.loc[:, col].str.replace('V', '-')"
      ],
      "execution_count": null,
      "outputs": []
    },
    {
      "cell_type": "code",
      "metadata": {
        "id": "jn6frLaAtv1G"
      },
      "source": [
        "# Convert all the ICD-9 codes to type integer\n",
        "\n",
        "df.loc[:, cols] = df.loc[:, cols].astype(float).astype(int)"
      ],
      "execution_count": null,
      "outputs": []
    },
    {
      "cell_type": "code",
      "metadata": {
        "id": "leqRtzwet2O4"
      },
      "source": [
        "# Define a convert function\n",
        "\n",
        "def code_to_name(num, table=icd9_table):\n",
        "  for key, value in table.items():\n",
        "    if num in key:\n",
        "      return value\n",
        "  # return others if not in table    \n",
        "  return 'Other'\n",
        "\n",
        "\n",
        "# Convert all the ICD-9 codes to medical conditions\n",
        "\n",
        "for col in cols:\n",
        "  df.loc[:, col] = df.loc[:, col].apply(code_to_name)"
      ],
      "execution_count": null,
      "outputs": []
    },
    {
      "cell_type": "code",
      "metadata": {
        "id": "q5VAbgwjUD7Y"
      },
      "source": [
        "# Visualize conditions in all diagnoses\r\n",
        "\r\n",
        "diag_dfs = list()\r\n",
        "\r\n",
        "for col in cols:\r\n",
        "  d = df.groupby(col)['encounter_id'].nunique().reset_index()\r\n",
        "  diag_dfs.append(d)\r\n",
        "\r\n",
        "\r\n",
        "# Drop 'encounter_id'\r\n",
        "\r\n",
        "df.drop('encounter_id', axis=1, inplace=True)"
      ],
      "execution_count": null,
      "outputs": []
    },
    {
      "cell_type": "code",
      "metadata": {
        "colab": {
          "base_uri": "https://localhost:8080/"
        },
        "id": "B4fxqhPKV4vS",
        "outputId": "86da665e-fa91-4a2b-a7f6-40283e8d5f48"
      },
      "source": [
        "diag_dict = dict()\r\n",
        "\r\n",
        "for frame in diag_dfs:\r\n",
        "  for i in range(len(frame)):\r\n",
        "\r\n",
        "    name = frame.iloc[i, 0]\r\n",
        "    count = frame.iloc[i, 1]\r\n",
        "\r\n",
        "    if name not in diag_dict:\r\n",
        "      diag_dict[name] = count\r\n",
        "    else:\r\n",
        "      diag_dict[name] += count\r\n",
        "\r\n",
        "\r\n",
        "names, counts = zip(*diag_dict.items())\r\n",
        "counts, names = zip(*sorted(zip(counts, names)))\r\n",
        "\r\n",
        "plt.barh(names, counts)"
      ],
      "execution_count": null,
      "outputs": [
        {
          "output_type": "execute_result",
          "data": {
            "text/plain": [
              "<BarContainer object of 9 artists>"
            ]
          },
          "metadata": {
            "tags": []
          },
          "execution_count": 24
        },
        {
          "output_type": "display_data",
          "data": {
            "image/png": "[encoded data removed]",
            "text/plain": [
              "<Figure size 432x288 with 1 Axes>"
            ]
          },
          "metadata": {
            "tags": [],
            "needs_background": "light"
          }
        }
      ]
    },
    {
      "cell_type": "markdown",
      "metadata": {
        "id": "TkiQqK5m1wr0"
      },
      "source": [
        "### Deal with the 'age' column format"
      ]
    },
    {
      "cell_type": "code",
      "metadata": {
        "colab": {
          "base_uri": "https://localhost:8080/"
        },
        "id": "mnbvNzLU0sIN",
        "outputId": "3131e447-efd1-4fab-ce13-f3236d01c1a1"
      },
      "source": [
        "df['age'].unique()"
      ],
      "execution_count": null,
      "outputs": [
        {
          "output_type": "execute_result",
          "data": {
            "text/plain": [
              "array(['[10-20)', '[20-30)', '[30-40)', '[40-50)', '[50-60)', '[60-70)',\n",
              "       '[70-80)', '[80-90)', '[90-100)', '[0-10)'], dtype=object)"
            ]
          },
          "metadata": {
            "tags": []
          },
          "execution_count": 25
        }
      ]
    },
    {
      "cell_type": "code",
      "metadata": {
        "id": "ULHp-IKo1YgS"
      },
      "source": [
        "# Convert 'age' entries to integers by the upper bound\n",
        "\n",
        "def get_upper_age(s):\n",
        "  start = s.index('-') + 1\n",
        "  end = -1\n",
        "  return s[start:end]\n",
        "\n",
        "df.loc[:, 'age'] = df.loc[:, 'age'].apply(get_upper_age)\n",
        "df.loc[:, 'age'] = df.loc[:, 'age'].astype(int)"
      ],
      "execution_count": null,
      "outputs": []
    },
    {
      "cell_type": "code",
      "metadata": {
        "colab": {
          "base_uri": "https://localhost:8080/"
        },
        "id": "pblFsmCd2-0e",
        "outputId": "ce8a64f9-b7ca-486e-d787-abc9150e49cb"
      },
      "source": [
        "# Visualize age distribution\n",
        "\n",
        "sns.countplot(x='age', data=df, palette=['SteelBlue'])\n",
        "plt.title('Age Distribution')"
      ],
      "execution_count": null,
      "outputs": [
        {
          "output_type": "execute_result",
          "data": {
            "text/plain": [
              "Text(0.5, 1.0, 'Age Distribution')"
            ]
          },
          "metadata": {
            "tags": []
          },
          "execution_count": 27
        },
        {
          "output_type": "display_data",
          "data": {
            "image/png": "[encoded data removed]",
            "text/plain": [
              "<Figure size 432x288 with 1 Axes>"
            ]
          },
          "metadata": {
            "tags": [],
            "needs_background": "light"
          }
        }
      ]
    },
    {
      "cell_type": "markdown",
      "metadata": {
        "id": "K_p4UcXtiMAV"
      },
      "source": [
        "### Format: 'A1Cresult', 'max_glu_serum', 'change', 'diabetesMed'"
      ]
    },
    {
      "cell_type": "code",
      "metadata": {
        "colab": {
          "base_uri": "https://localhost:8080/"
        },
        "id": "d8z7j2ZfgMb6",
        "outputId": "e2ae1780-5aca-45be-c5a6-6b8229c30dcb"
      },
      "source": [
        "df['A1Cresult'].unique()"
      ],
      "execution_count": null,
      "outputs": [
        {
          "output_type": "execute_result",
          "data": {
            "text/plain": [
              "array(['None', '>7', '>8', 'Norm'], dtype=object)"
            ]
          },
          "metadata": {
            "tags": []
          },
          "execution_count": 28
        }
      ]
    },
    {
      "cell_type": "code",
      "metadata": {
        "id": "h1wfE2REghY5"
      },
      "source": [
        "df.loc[:, 'A1Cresult'] = df.loc[:, 'A1Cresult'].replace(\r\n",
        "    {'None': 0,\r\n",
        "     'Norm': 5,\r\n",
        "     '>7'  : 7,\r\n",
        "     '>8'  : 8}\r\n",
        ")"
      ],
      "execution_count": null,
      "outputs": []
    },
    {
      "cell_type": "code",
      "metadata": {
        "colab": {
          "base_uri": "https://localhost:8080/"
        },
        "id": "fLwP9bbShv2y",
        "outputId": "2df315c4-efb0-4bbd-b2c4-5e1f0d1cd8d6"
      },
      "source": [
        "df['max_glu_serum'].unique()"
      ],
      "execution_count": null,
      "outputs": [
        {
          "output_type": "execute_result",
          "data": {
            "text/plain": [
              "array(['None', '>300', 'Norm', '>200'], dtype=object)"
            ]
          },
          "metadata": {
            "tags": []
          },
          "execution_count": 30
        }
      ]
    },
    {
      "cell_type": "code",
      "metadata": {
        "id": "aKcCkWrzi1P7"
      },
      "source": [
        "df.loc[:, 'max_glu_serum'] = df.loc[:, 'max_glu_serum'].replace(\r\n",
        "    {'None': 0,\r\n",
        "     'Norm': 100,\r\n",
        "     '>300': 300,\r\n",
        "     '>200': 200}\r\n",
        ")"
      ],
      "execution_count": null,
      "outputs": []
    },
    {
      "cell_type": "code",
      "metadata": {
        "colab": {
          "base_uri": "https://localhost:8080/"
        },
        "id": "Lk9c5cWkiqcR",
        "outputId": "41010b91-b12d-4d55-a16f-c5c5bc1eb248"
      },
      "source": [
        "df['change'].unique()"
      ],
      "execution_count": null,
      "outputs": [
        {
          "output_type": "execute_result",
          "data": {
            "text/plain": [
              "array(['Ch', 'No'], dtype=object)"
            ]
          },
          "metadata": {
            "tags": []
          },
          "execution_count": 32
        }
      ]
    },
    {
      "cell_type": "code",
      "metadata": {
        "id": "zM8-2jYIjqD4"
      },
      "source": [
        "df.loc[:, 'change'] = df.loc[:, 'change'].replace(\r\n",
        "    {'No': -1,\r\n",
        "     'Ch': 1}\r\n",
        ")"
      ],
      "execution_count": null,
      "outputs": []
    },
    {
      "cell_type": "code",
      "metadata": {
        "colab": {
          "base_uri": "https://localhost:8080/"
        },
        "id": "hC1-rOfAisxv",
        "outputId": "b9cf485a-9a37-4e63-9323-11f0d5defa87"
      },
      "source": [
        "df['diabetesMed'].unique()"
      ],
      "execution_count": null,
      "outputs": [
        {
          "output_type": "execute_result",
          "data": {
            "text/plain": [
              "array(['Yes', 'No'], dtype=object)"
            ]
          },
          "metadata": {
            "tags": []
          },
          "execution_count": 34
        }
      ]
    },
    {
      "cell_type": "code",
      "metadata": {
        "id": "09Kzgqkciwyo"
      },
      "source": [
        "df.loc[:, 'diabetesMed'] = df.loc[:, 'diabetesMed'].replace(\r\n",
        "    {'No' : -1,\r\n",
        "     'Yes': 1}\r\n",
        ")"
      ],
      "execution_count": null,
      "outputs": []
    },
    {
      "cell_type": "code",
      "metadata": {
        "colab": {
          "base_uri": "https://localhost:8080/"
        },
        "id": "YZyguhz0AZfO",
        "outputId": "0f5e20e2-5a97-42b2-cd9c-41fd024b1cf2"
      },
      "source": [
        "df.info()"
      ],
      "execution_count": null,
      "outputs": [
        {
          "output_type": "stream",
          "text": [
            "<class 'pandas.core.frame.DataFrame'>\n",
            "Int64Index: 98052 entries, 1 to 101765\n",
            "Data columns (total 42 columns):\n",
            " #   Column                    Non-Null Count  Dtype \n",
            "---  ------                    --------------  ----- \n",
            " 0   race                      98052 non-null  object\n",
            " 1   gender                    98052 non-null  object\n",
            " 2   age                       98052 non-null  int64 \n",
            " 3   time_in_hospital          98052 non-null  int64 \n",
            " 4   num_lab_procedures        98052 non-null  int64 \n",
            " 5   num_procedures            98052 non-null  int64 \n",
            " 6   num_medications           98052 non-null  int64 \n",
            " 7   number_outpatient         98052 non-null  int64 \n",
            " 8   number_emergency          98052 non-null  int64 \n",
            " 9   number_inpatient          98052 non-null  int64 \n",
            " 10  diag_1                    98052 non-null  object\n",
            " 11  diag_2                    98052 non-null  object\n",
            " 12  diag_3                    98052 non-null  object\n",
            " 13  number_diagnoses          98052 non-null  int64 \n",
            " 14  max_glu_serum             98052 non-null  int64 \n",
            " 15  A1Cresult                 98052 non-null  int64 \n",
            " 16  metformin                 98052 non-null  object\n",
            " 17  repaglinide               98052 non-null  object\n",
            " 18  nateglinide               98052 non-null  object\n",
            " 19  chlorpropamide            98052 non-null  object\n",
            " 20  glimepiride               98052 non-null  object\n",
            " 21  acetohexamide             98052 non-null  object\n",
            " 22  glipizide                 98052 non-null  object\n",
            " 23  glyburide                 98052 non-null  object\n",
            " 24  tolbutamide               98052 non-null  object\n",
            " 25  pioglitazone              98052 non-null  object\n",
            " 26  rosiglitazone             98052 non-null  object\n",
            " 27  acarbose                  98052 non-null  object\n",
            " 28  miglitol                  98052 non-null  object\n",
            " 29  troglitazone              98052 non-null  object\n",
            " 30  tolazamide                98052 non-null  object\n",
            " 31  examide                   98052 non-null  object\n",
            " 32  citoglipton               98052 non-null  object\n",
            " 33  insulin                   98052 non-null  object\n",
            " 34  glyburide-metformin       98052 non-null  object\n",
            " 35  glipizide-metformin       98052 non-null  object\n",
            " 36  glimepiride-pioglitazone  98052 non-null  object\n",
            " 37  metformin-rosiglitazone   98052 non-null  object\n",
            " 38  metformin-pioglitazone    98052 non-null  object\n",
            " 39  change                    98052 non-null  int64 \n",
            " 40  diabetesMed               98052 non-null  int64 \n",
            " 41  readmitted                98052 non-null  int64 \n",
            "dtypes: int64(14), object(28)\n",
            "memory usage: 34.7+ MB\n"
          ],
          "name": "stdout"
        }
      ]
    },
    {
      "cell_type": "markdown",
      "metadata": {
        "id": "SD5usQpIlURV"
      },
      "source": [
        "### Format the columns from 'metformin' to 'metformin-pioglitazone' related to medications"
      ]
    },
    {
      "cell_type": "code",
      "metadata": {
        "colab": {
          "base_uri": "https://localhost:8080/"
        },
        "id": "PICtZlk3lsbI",
        "outputId": "f43f87e6-7fee-4410-9cda-07020ac2f720"
      },
      "source": [
        "# Print distinct values in each medication column\r\n",
        "\r\n",
        "def get_meds(frame):\r\n",
        "  col_ls = list(frame.columns)\r\n",
        "  start = col_ls.index('metformin')\r\n",
        "  end = col_ls.index('metformin-pioglitazone') + 1\r\n",
        "  return start, end\r\n",
        "\r\n",
        "start, end = get_meds(df)\r\n",
        "\r\n",
        "for col in df.iloc[:, start:end].columns:\r\n",
        "  print(df[col].unique())"
      ],
      "execution_count": null,
      "outputs": [
        {
          "output_type": "stream",
          "text": [
            "['No' 'Steady' 'Up' 'Down']\n",
            "['No' 'Up' 'Steady' 'Down']\n",
            "['No' 'Steady' 'Down' 'Up']\n",
            "['No' 'Steady' 'Down' 'Up']\n",
            "['No' 'Steady' 'Down' 'Up']\n",
            "['No' 'Steady']\n",
            "['No' 'Steady' 'Up' 'Down']\n",
            "['No' 'Steady' 'Up' 'Down']\n",
            "['No' 'Steady']\n",
            "['No' 'Steady' 'Up' 'Down']\n",
            "['No' 'Steady' 'Up' 'Down']\n",
            "['No' 'Steady' 'Up' 'Down']\n",
            "['No' 'Steady' 'Down' 'Up']\n",
            "['No' 'Steady']\n",
            "['No' 'Steady' 'Up']\n",
            "['No']\n",
            "['No']\n",
            "['Up' 'No' 'Steady' 'Down']\n",
            "['No' 'Steady' 'Down' 'Up']\n",
            "['No' 'Steady']\n",
            "['No' 'Steady']\n",
            "['No']\n",
            "['No' 'Steady']\n"
          ],
          "name": "stdout"
        }
      ]
    },
    {
      "cell_type": "code",
      "metadata": {
        "id": "1kOYneoxmHz1"
      },
      "source": [
        "# Drop the columns with uniform rows\r\n",
        "\r\n",
        "start, end = get_meds(df)\r\n",
        "\r\n",
        "for col in df.iloc[:, start:end].columns:\r\n",
        "  if len(df[col].unique()) == 1:\r\n",
        "    df.drop(columns=col, inplace=True)"
      ],
      "execution_count": null,
      "outputs": []
    },
    {
      "cell_type": "code",
      "metadata": {
        "id": "zHdwu5LPop2E"
      },
      "source": [
        "# Format remaining medication columns (21 to 40)\r\n",
        "\r\n",
        "start, end = get_meds(df)\r\n",
        "\r\n",
        "for col in df.iloc[:, start:end].columns:\r\n",
        "  df.loc[:, col] = df.loc[:, col].replace(\r\n",
        "    {'No'    : -20,\r\n",
        "     'Down'  : -10,\r\n",
        "     'Steady': 0,\r\n",
        "     'Up'    : 10}\r\n",
        "  )"
      ],
      "execution_count": null,
      "outputs": []
    },
    {
      "cell_type": "markdown",
      "metadata": {
        "id": "zOSnwynVr2qK"
      },
      "source": [
        "### Encode remaining dtype 'object' columns"
      ]
    },
    {
      "cell_type": "code",
      "metadata": {
        "colab": {
          "base_uri": "https://localhost:8080/"
        },
        "id": "PVqS4CUQp4Qj",
        "outputId": "2cd28182-af87-4d17-b263-269466ffb73c"
      },
      "source": [
        "df.select_dtypes('object').columns"
      ],
      "execution_count": null,
      "outputs": [
        {
          "output_type": "execute_result",
          "data": {
            "text/plain": [
              "Index(['race', 'gender', 'diag_1', 'diag_2', 'diag_3'], dtype='object')"
            ]
          },
          "metadata": {
            "tags": []
          },
          "execution_count": 40
        }
      ]
    },
    {
      "cell_type": "code",
      "metadata": {
        "id": "t_GGi-6Aq466"
      },
      "source": [
        "# Convert categorical variable into dummy/indicator variables\r\n",
        "\r\n",
        "obj_cols = df.select_dtypes('object').columns\r\n",
        "\r\n",
        "for col in obj_cols:\r\n",
        "  df = pd.concat([df.drop(col, axis=1), pd.get_dummies(df[col])], axis=1)"
      ],
      "execution_count": null,
      "outputs": []
    },
    {
      "cell_type": "markdown",
      "metadata": {
        "id": "u11tdT265Qw3"
      },
      "source": [
        "# Build and Evaluate Models"
      ]
    },
    {
      "cell_type": "markdown",
      "metadata": {
        "id": "i09cippiP7nN"
      },
      "source": [
        "### Logistic Regression"
      ]
    },
    {
      "cell_type": "code",
      "metadata": {
        "colab": {
          "base_uri": "https://localhost:8080/",
          "height": 241
        },
        "id": "K8An9O_S0PqK",
        "outputId": "abd5b4db-1a87-4685-9cf0-947cc9f74451"
      },
      "source": [
        "df.sample(5)"
      ],
      "execution_count": null,
      "outputs": [
        {
          "output_type": "execute_result",
          "data": {
            "text/html": [
              "<div>\n",
              "<style scoped>\n",
              "    .dataframe tbody tr th:only-of-type {\n",
              "        vertical-align: middle;\n",
              "    }\n",
              "\n",
              "    .dataframe tbody tr th {\n",
              "        vertical-align: top;\n",
              "    }\n",
              "\n",
              "    .dataframe thead th {\n",
              "        text-align: right;\n",
              "    }\n",
              "</style>\n",
              "<table border=\"1\" class=\"dataframe\">\n",
              "  <thead>\n",
              "    <tr style=\"text-align: right;\">\n",
              "      <th></th>\n",
              "      <th>age</th>\n",
              "      <th>time_in_hospital</th>\n",
              "      <th>num_lab_procedures</th>\n",
              "      <th>num_procedures</th>\n",
              "      <th>num_medications</th>\n",
              "      <th>number_outpatient</th>\n",
              "      <th>number_emergency</th>\n",
              "      <th>number_inpatient</th>\n",
              "      <th>number_diagnoses</th>\n",
              "      <th>max_glu_serum</th>\n",
              "      <th>A1Cresult</th>\n",
              "      <th>metformin</th>\n",
              "      <th>repaglinide</th>\n",
              "      <th>nateglinide</th>\n",
              "      <th>chlorpropamide</th>\n",
              "      <th>glimepiride</th>\n",
              "      <th>acetohexamide</th>\n",
              "      <th>glipizide</th>\n",
              "      <th>glyburide</th>\n",
              "      <th>tolbutamide</th>\n",
              "      <th>pioglitazone</th>\n",
              "      <th>rosiglitazone</th>\n",
              "      <th>acarbose</th>\n",
              "      <th>miglitol</th>\n",
              "      <th>troglitazone</th>\n",
              "      <th>tolazamide</th>\n",
              "      <th>insulin</th>\n",
              "      <th>glyburide-metformin</th>\n",
              "      <th>glipizide-metformin</th>\n",
              "      <th>glimepiride-pioglitazone</th>\n",
              "      <th>metformin-pioglitazone</th>\n",
              "      <th>change</th>\n",
              "      <th>diabetesMed</th>\n",
              "      <th>readmitted</th>\n",
              "      <th>AfricanAmerican</th>\n",
              "      <th>Asian</th>\n",
              "      <th>Caucasian</th>\n",
              "      <th>Hispanic</th>\n",
              "      <th>Other</th>\n",
              "      <th>Female</th>\n",
              "      <th>Male</th>\n",
              "      <th>Circulatory</th>\n",
              "      <th>Diabetes</th>\n",
              "      <th>Digestive</th>\n",
              "      <th>Genitourinary</th>\n",
              "      <th>Injury</th>\n",
              "      <th>Musculoskeletal</th>\n",
              "      <th>Neoplasms</th>\n",
              "      <th>Other</th>\n",
              "      <th>Respiratory</th>\n",
              "      <th>Circulatory</th>\n",
              "      <th>Diabetes</th>\n",
              "      <th>Digestive</th>\n",
              "      <th>Genitourinary</th>\n",
              "      <th>Injury</th>\n",
              "      <th>Musculoskeletal</th>\n",
              "      <th>Neoplasms</th>\n",
              "      <th>Other</th>\n",
              "      <th>Respiratory</th>\n",
              "      <th>Circulatory</th>\n",
              "      <th>Diabetes</th>\n",
              "      <th>Digestive</th>\n",
              "      <th>Genitourinary</th>\n",
              "      <th>Injury</th>\n",
              "      <th>Musculoskeletal</th>\n",
              "      <th>Neoplasms</th>\n",
              "      <th>Other</th>\n",
              "      <th>Respiratory</th>\n",
              "    </tr>\n",
              "  </thead>\n",
              "  <tbody>\n",
              "    <tr>\n",
              "      <th>81667</th>\n",
              "      <td>70</td>\n",
              "      <td>5</td>\n",
              "      <td>29</td>\n",
              "      <td>3</td>\n",
              "      <td>21</td>\n",
              "      <td>4</td>\n",
              "      <td>0</td>\n",
              "      <td>0</td>\n",
              "      <td>9</td>\n",
              "      <td>0</td>\n",
              "      <td>0</td>\n",
              "      <td>0</td>\n",
              "      <td>-20</td>\n",
              "      <td>-20</td>\n",
              "      <td>-20</td>\n",
              "      <td>-20</td>\n",
              "      <td>-20</td>\n",
              "      <td>-20</td>\n",
              "      <td>-20</td>\n",
              "      <td>-20</td>\n",
              "      <td>-20</td>\n",
              "      <td>-20</td>\n",
              "      <td>-20</td>\n",
              "      <td>-20</td>\n",
              "      <td>-20</td>\n",
              "      <td>-20</td>\n",
              "      <td>-20</td>\n",
              "      <td>-20</td>\n",
              "      <td>-20</td>\n",
              "      <td>-20</td>\n",
              "      <td>-20</td>\n",
              "      <td>-1</td>\n",
              "      <td>1</td>\n",
              "      <td>0</td>\n",
              "      <td>0</td>\n",
              "      <td>0</td>\n",
              "      <td>1</td>\n",
              "      <td>0</td>\n",
              "      <td>0</td>\n",
              "      <td>0</td>\n",
              "      <td>1</td>\n",
              "      <td>0</td>\n",
              "      <td>0</td>\n",
              "      <td>0</td>\n",
              "      <td>0</td>\n",
              "      <td>0</td>\n",
              "      <td>0</td>\n",
              "      <td>1</td>\n",
              "      <td>0</td>\n",
              "      <td>0</td>\n",
              "      <td>0</td>\n",
              "      <td>0</td>\n",
              "      <td>0</td>\n",
              "      <td>0</td>\n",
              "      <td>1</td>\n",
              "      <td>0</td>\n",
              "      <td>0</td>\n",
              "      <td>0</td>\n",
              "      <td>0</td>\n",
              "      <td>0</td>\n",
              "      <td>0</td>\n",
              "      <td>0</td>\n",
              "      <td>1</td>\n",
              "      <td>0</td>\n",
              "      <td>0</td>\n",
              "      <td>0</td>\n",
              "      <td>0</td>\n",
              "      <td>0</td>\n",
              "    </tr>\n",
              "    <tr>\n",
              "      <th>57005</th>\n",
              "      <td>60</td>\n",
              "      <td>2</td>\n",
              "      <td>39</td>\n",
              "      <td>1</td>\n",
              "      <td>14</td>\n",
              "      <td>0</td>\n",
              "      <td>0</td>\n",
              "      <td>0</td>\n",
              "      <td>6</td>\n",
              "      <td>0</td>\n",
              "      <td>5</td>\n",
              "      <td>-20</td>\n",
              "      <td>-20</td>\n",
              "      <td>-20</td>\n",
              "      <td>-20</td>\n",
              "      <td>-20</td>\n",
              "      <td>-20</td>\n",
              "      <td>-20</td>\n",
              "      <td>-20</td>\n",
              "      <td>-20</td>\n",
              "      <td>-20</td>\n",
              "      <td>-20</td>\n",
              "      <td>-20</td>\n",
              "      <td>-20</td>\n",
              "      <td>-20</td>\n",
              "      <td>-20</td>\n",
              "      <td>10</td>\n",
              "      <td>-20</td>\n",
              "      <td>-20</td>\n",
              "      <td>-20</td>\n",
              "      <td>-20</td>\n",
              "      <td>1</td>\n",
              "      <td>1</td>\n",
              "      <td>0</td>\n",
              "      <td>0</td>\n",
              "      <td>0</td>\n",
              "      <td>1</td>\n",
              "      <td>0</td>\n",
              "      <td>0</td>\n",
              "      <td>1</td>\n",
              "      <td>0</td>\n",
              "      <td>0</td>\n",
              "      <td>1</td>\n",
              "      <td>0</td>\n",
              "      <td>0</td>\n",
              "      <td>0</td>\n",
              "      <td>0</td>\n",
              "      <td>0</td>\n",
              "      <td>0</td>\n",
              "      <td>0</td>\n",
              "      <td>0</td>\n",
              "      <td>0</td>\n",
              "      <td>0</td>\n",
              "      <td>0</td>\n",
              "      <td>0</td>\n",
              "      <td>0</td>\n",
              "      <td>0</td>\n",
              "      <td>1</td>\n",
              "      <td>0</td>\n",
              "      <td>0</td>\n",
              "      <td>0</td>\n",
              "      <td>0</td>\n",
              "      <td>0</td>\n",
              "      <td>0</td>\n",
              "      <td>0</td>\n",
              "      <td>0</td>\n",
              "      <td>1</td>\n",
              "      <td>0</td>\n",
              "    </tr>\n",
              "    <tr>\n",
              "      <th>78307</th>\n",
              "      <td>20</td>\n",
              "      <td>1</td>\n",
              "      <td>36</td>\n",
              "      <td>1</td>\n",
              "      <td>8</td>\n",
              "      <td>0</td>\n",
              "      <td>0</td>\n",
              "      <td>0</td>\n",
              "      <td>3</td>\n",
              "      <td>0</td>\n",
              "      <td>0</td>\n",
              "      <td>-20</td>\n",
              "      <td>-20</td>\n",
              "      <td>-20</td>\n",
              "      <td>-20</td>\n",
              "      <td>-20</td>\n",
              "      <td>-20</td>\n",
              "      <td>-20</td>\n",
              "      <td>-20</td>\n",
              "      <td>-20</td>\n",
              "      <td>-20</td>\n",
              "      <td>-20</td>\n",
              "      <td>-20</td>\n",
              "      <td>-20</td>\n",
              "      <td>-20</td>\n",
              "      <td>-20</td>\n",
              "      <td>0</td>\n",
              "      <td>-20</td>\n",
              "      <td>-20</td>\n",
              "      <td>-20</td>\n",
              "      <td>-20</td>\n",
              "      <td>-1</td>\n",
              "      <td>1</td>\n",
              "      <td>1</td>\n",
              "      <td>0</td>\n",
              "      <td>0</td>\n",
              "      <td>1</td>\n",
              "      <td>0</td>\n",
              "      <td>0</td>\n",
              "      <td>1</td>\n",
              "      <td>0</td>\n",
              "      <td>0</td>\n",
              "      <td>0</td>\n",
              "      <td>0</td>\n",
              "      <td>0</td>\n",
              "      <td>0</td>\n",
              "      <td>0</td>\n",
              "      <td>1</td>\n",
              "      <td>0</td>\n",
              "      <td>0</td>\n",
              "      <td>0</td>\n",
              "      <td>1</td>\n",
              "      <td>0</td>\n",
              "      <td>0</td>\n",
              "      <td>0</td>\n",
              "      <td>0</td>\n",
              "      <td>0</td>\n",
              "      <td>0</td>\n",
              "      <td>0</td>\n",
              "      <td>0</td>\n",
              "      <td>0</td>\n",
              "      <td>0</td>\n",
              "      <td>0</td>\n",
              "      <td>0</td>\n",
              "      <td>0</td>\n",
              "      <td>0</td>\n",
              "      <td>1</td>\n",
              "      <td>0</td>\n",
              "    </tr>\n",
              "    <tr>\n",
              "      <th>22028</th>\n",
              "      <td>60</td>\n",
              "      <td>6</td>\n",
              "      <td>43</td>\n",
              "      <td>2</td>\n",
              "      <td>22</td>\n",
              "      <td>0</td>\n",
              "      <td>0</td>\n",
              "      <td>1</td>\n",
              "      <td>3</td>\n",
              "      <td>0</td>\n",
              "      <td>0</td>\n",
              "      <td>-20</td>\n",
              "      <td>-20</td>\n",
              "      <td>-20</td>\n",
              "      <td>-20</td>\n",
              "      <td>-20</td>\n",
              "      <td>-20</td>\n",
              "      <td>-20</td>\n",
              "      <td>-20</td>\n",
              "      <td>-20</td>\n",
              "      <td>-20</td>\n",
              "      <td>-20</td>\n",
              "      <td>-20</td>\n",
              "      <td>-20</td>\n",
              "      <td>-20</td>\n",
              "      <td>-20</td>\n",
              "      <td>-20</td>\n",
              "      <td>-20</td>\n",
              "      <td>-20</td>\n",
              "      <td>-20</td>\n",
              "      <td>-20</td>\n",
              "      <td>-1</td>\n",
              "      <td>-1</td>\n",
              "      <td>0</td>\n",
              "      <td>0</td>\n",
              "      <td>0</td>\n",
              "      <td>1</td>\n",
              "      <td>0</td>\n",
              "      <td>0</td>\n",
              "      <td>1</td>\n",
              "      <td>0</td>\n",
              "      <td>0</td>\n",
              "      <td>0</td>\n",
              "      <td>0</td>\n",
              "      <td>0</td>\n",
              "      <td>1</td>\n",
              "      <td>0</td>\n",
              "      <td>0</td>\n",
              "      <td>0</td>\n",
              "      <td>0</td>\n",
              "      <td>0</td>\n",
              "      <td>0</td>\n",
              "      <td>0</td>\n",
              "      <td>0</td>\n",
              "      <td>0</td>\n",
              "      <td>0</td>\n",
              "      <td>0</td>\n",
              "      <td>1</td>\n",
              "      <td>0</td>\n",
              "      <td>0</td>\n",
              "      <td>1</td>\n",
              "      <td>0</td>\n",
              "      <td>0</td>\n",
              "      <td>0</td>\n",
              "      <td>0</td>\n",
              "      <td>0</td>\n",
              "      <td>0</td>\n",
              "      <td>0</td>\n",
              "    </tr>\n",
              "    <tr>\n",
              "      <th>4941</th>\n",
              "      <td>80</td>\n",
              "      <td>4</td>\n",
              "      <td>15</td>\n",
              "      <td>1</td>\n",
              "      <td>10</td>\n",
              "      <td>1</td>\n",
              "      <td>0</td>\n",
              "      <td>0</td>\n",
              "      <td>4</td>\n",
              "      <td>0</td>\n",
              "      <td>0</td>\n",
              "      <td>-20</td>\n",
              "      <td>-20</td>\n",
              "      <td>-20</td>\n",
              "      <td>-20</td>\n",
              "      <td>-20</td>\n",
              "      <td>-20</td>\n",
              "      <td>-20</td>\n",
              "      <td>-20</td>\n",
              "      <td>-20</td>\n",
              "      <td>-20</td>\n",
              "      <td>-20</td>\n",
              "      <td>-20</td>\n",
              "      <td>-20</td>\n",
              "      <td>-20</td>\n",
              "      <td>-20</td>\n",
              "      <td>-20</td>\n",
              "      <td>-20</td>\n",
              "      <td>-20</td>\n",
              "      <td>-20</td>\n",
              "      <td>-20</td>\n",
              "      <td>-1</td>\n",
              "      <td>-1</td>\n",
              "      <td>0</td>\n",
              "      <td>0</td>\n",
              "      <td>0</td>\n",
              "      <td>1</td>\n",
              "      <td>0</td>\n",
              "      <td>0</td>\n",
              "      <td>0</td>\n",
              "      <td>1</td>\n",
              "      <td>0</td>\n",
              "      <td>0</td>\n",
              "      <td>0</td>\n",
              "      <td>0</td>\n",
              "      <td>0</td>\n",
              "      <td>0</td>\n",
              "      <td>1</td>\n",
              "      <td>0</td>\n",
              "      <td>0</td>\n",
              "      <td>0</td>\n",
              "      <td>1</td>\n",
              "      <td>0</td>\n",
              "      <td>0</td>\n",
              "      <td>0</td>\n",
              "      <td>0</td>\n",
              "      <td>0</td>\n",
              "      <td>0</td>\n",
              "      <td>0</td>\n",
              "      <td>0</td>\n",
              "      <td>0</td>\n",
              "      <td>0</td>\n",
              "      <td>0</td>\n",
              "      <td>0</td>\n",
              "      <td>0</td>\n",
              "      <td>0</td>\n",
              "      <td>1</td>\n",
              "      <td>0</td>\n",
              "    </tr>\n",
              "  </tbody>\n",
              "</table>\n",
              "</div>"
            ],
            "text/plain": [
              "       age  time_in_hospital  num_lab_procedures  ...  Neoplasms  Other  Respiratory\n",
              "81667   70                 5                  29  ...          0      0            0\n",
              "57005   60                 2                  39  ...          0      1            0\n",
              "78307   20                 1                  36  ...          0      1            0\n",
              "22028   60                 6                  43  ...          0      0            0\n",
              "4941    80                 4                  15  ...          0      1            0\n",
              "\n",
              "[5 rows x 68 columns]"
            ]
          },
          "metadata": {
            "tags": []
          },
          "execution_count": 42
        }
      ]
    },
    {
      "cell_type": "code",
      "metadata": {
        "id": "VigUT6YQ6i1F"
      },
      "source": [
        "# Create X (all columns except target)\n",
        "X = df.drop('readmitted', axis=1)\n",
        "\n",
        "# Create y (only the target column)\n",
        "y = df.loc[:, 'readmitted']"
      ],
      "execution_count": null,
      "outputs": []
    },
    {
      "cell_type": "code",
      "metadata": {
        "id": "LHrSgZOd8U6s"
      },
      "source": [
        "# Import train_test_split from sklearn's model_selection module\n",
        "from sklearn.model_selection import train_test_split\n",
        "\n",
        "# Split X and y into train and test sets\n",
        "X_train, X_test, y_train, y_test = train_test_split(X, y, test_size=0.25, random_state=88)"
      ],
      "execution_count": null,
      "outputs": []
    },
    {
      "cell_type": "code",
      "metadata": {
        "colab": {
          "base_uri": "https://localhost:8080/"
        },
        "id": "FlnHHfnl98Zh",
        "outputId": "5b901460-74c3-44eb-c24b-e60d6e2b1eee"
      },
      "source": [
        "# View the different shapes of the training and test datasets\n",
        "\n",
        "X_train.shape, X_test.shape, y_train.shape, y_test.shape"
      ],
      "execution_count": null,
      "outputs": [
        {
          "output_type": "execute_result",
          "data": {
            "text/plain": [
              "((73539, 67), (24513, 67), (73539,), (24513,))"
            ]
          },
          "metadata": {
            "tags": []
          },
          "execution_count": 45
        }
      ]
    },
    {
      "cell_type": "code",
      "metadata": {
        "id": "5ay7Syqw-Fhz"
      },
      "source": [
        "# Import LogisticRegression from sklearn's linear_model\n",
        "\n",
        "from sklearn.linear_model import LogisticRegression"
      ],
      "execution_count": null,
      "outputs": []
    },
    {
      "cell_type": "code",
      "metadata": {
        "id": "lvyv9t6I-fxV"
      },
      "source": [
        "# Create an instance of LogisticRegression as log\n",
        "\n",
        "log = LogisticRegression(solver='liblinear',random_state=88)"
      ],
      "execution_count": null,
      "outputs": []
    },
    {
      "cell_type": "code",
      "metadata": {
        "colab": {
          "base_uri": "https://localhost:8080/"
        },
        "id": "t6Li6R6u-wOG",
        "outputId": "62597997-9a53-428e-ffe8-4d7010d97bb9"
      },
      "source": [
        "# Fit the LogisticRegression to the training data\n",
        "\n",
        "log.fit(X_train, y_train)"
      ],
      "execution_count": null,
      "outputs": [
        {
          "output_type": "execute_result",
          "data": {
            "text/plain": [
              "LogisticRegression(C=1.0, class_weight=None, dual=False, fit_intercept=True,\n",
              "                   intercept_scaling=1, l1_ratio=None, max_iter=100,\n",
              "                   multi_class='auto', n_jobs=None, penalty='l2',\n",
              "                   random_state=88, solver='liblinear', tol=0.0001, verbose=0,\n",
              "                   warm_start=False)"
            ]
          },
          "metadata": {
            "tags": []
          },
          "execution_count": 48
        }
      ]
    },
    {
      "cell_type": "code",
      "metadata": {
        "id": "9mFXS0oi_EN2"
      },
      "source": [
        "# Use the fitted model to make predictions on the test data and\n",
        "# store the predictions to a variable called predict\n",
        "\n",
        "predict = log.predict(X_test)"
      ],
      "execution_count": null,
      "outputs": []
    },
    {
      "cell_type": "code",
      "metadata": {
        "colab": {
          "base_uri": "https://localhost:8080/"
        },
        "id": "AbrC7m94HtNw",
        "outputId": "96db6533-496e-40a9-ab08-6e85a223f7b2"
      },
      "source": [
        "log.score(X_test, y_test)"
      ],
      "execution_count": null,
      "outputs": [
        {
          "output_type": "execute_result",
          "data": {
            "text/plain": [
              "0.8861828417574348"
            ]
          },
          "metadata": {
            "tags": []
          },
          "execution_count": 50
        }
      ]
    },
    {
      "cell_type": "code",
      "metadata": {
        "colab": {
          "base_uri": "https://localhost:8080/"
        },
        "id": "CGS_uEfKE47i",
        "outputId": "a10dc75a-ec29-471f-bbc2-cfc3a982d9ab"
      },
      "source": [
        "# Import confusion_matrix from sklearn's metrics module\n",
        "from sklearn.metrics import confusion_matrix\n",
        "\n",
        "# # Fit the test labels and predictions into confusion_matrix and\n",
        "# print the matrix\n",
        "print(confusion_matrix(y_test, predict))"
      ],
      "execution_count": null,
      "outputs": [
        {
          "output_type": "stream",
          "text": [
            "[[21683    55]\n",
            " [ 2735    40]]\n"
          ],
          "name": "stdout"
        }
      ]
    },
    {
      "cell_type": "code",
      "metadata": {
        "colab": {
          "base_uri": "https://localhost:8080/",
          "height": 397
        },
        "id": "QBAalExfFWwu",
        "outputId": "67c8b853-cc2c-4ad3-a70f-b95fa679e723"
      },
      "source": [
        "# Make confusion matrix more visual\n",
        "def plot_conf_mat(y_test, y_preds):\n",
        "    \"\"\"\n",
        "    Plots a confusion matrix using Seaborn's heatmap().\n",
        "    \"\"\"\n",
        "    fig, ax = plt.subplots(figsize=(6, 5))\n",
        "    ax = sns.heatmap(confusion_matrix(y_test, y_preds),\n",
        "                     annot=True, # Annotate the boxes\n",
        "                     cbar=True,\n",
        "                     cmap='GnBu')\n",
        "    plt.xlabel(\"Predicted label\")\n",
        "    plt.ylabel(\"True label\")\n",
        "\n",
        "\n",
        "# Call plot_conf_mat with the test labels and predictions\n",
        "plot_conf_mat(y_test, predict)\n",
        "\n",
        "\n",
        "# Give the matrix a title\n",
        "score = round(log.score(X_test, y_test), 2)\n",
        "plt.title(f'Logistic Regression \\n Accuracy {score}\\n')"
      ],
      "execution_count": null,
      "outputs": [
        {
          "output_type": "execute_result",
          "data": {
            "text/plain": [
              "Text(0.5, 1.0, 'Logistic Regression \\n Accuracy 0.89\\n')"
            ]
          },
          "metadata": {
            "tags": []
          },
          "execution_count": 64
        },
        {
          "output_type": "display_data",
          "data": {
            "image/png": "[encoded data removed]",
            "text/plain": [
              "<Figure size 432x360 with 2 Axes>"
            ]
          },
          "metadata": {
            "tags": [],
            "needs_background": "light"
          }
        }
      ]
    },
    {
      "cell_type": "code",
      "metadata": {
        "colab": {
          "base_uri": "https://localhost:8080/"
        },
        "id": "a1rdWyRaBoM6",
        "outputId": "f568cc80-e531-411f-f7b3-db82eaa21d68"
      },
      "source": [
        "# Import classification_report from sklearn's metrics module\n",
        "from sklearn.metrics import classification_report\n",
        "\n",
        "# Fit the test labels and predictions into classification_report and\n",
        "# print the report\n",
        "print(classification_report(y_test,predict))"
      ],
      "execution_count": null,
      "outputs": [
        {
          "output_type": "stream",
          "text": [
            "              precision    recall  f1-score   support\n",
            "\n",
            "           0       0.89      1.00      0.94     21738\n",
            "           1       0.42      0.01      0.03      2775\n",
            "\n",
            "    accuracy                           0.89     24513\n",
            "   macro avg       0.65      0.51      0.48     24513\n",
            "weighted avg       0.84      0.89      0.84     24513\n",
            "\n"
          ],
          "name": "stdout"
        }
      ]
    },
    {
      "cell_type": "markdown",
      "metadata": {
        "id": "XxB1yicFF1-E"
      },
      "source": [
        "**Precision** - Indicates the proportion of positive identifications (model predicted class 1) which were actually correct. A model which produces no false positives has a precision of 1.0.\n",
        "\n",
        "**Recall** - Indicates the proportion of actual positives which were correctly classified. A model which produces no false negatives has a recall of 1.0.\n",
        "\n",
        "**/F1 score** - A combination of precision and recall. A perfect model achieves an F1 score of 1.0.\n",
        "\n",
        "**Support** - The number of samples each metric was calculated on.\n",
        "\n",
        "**Accuracy** - The accuracy of the model in decimal form. Perfect accuracy is equal to 1.0.\n",
        "\n",
        "**Macro avg** - Short for macro average, the average precision, recall and F1 score between classes. Macro avg doesn’t class imbalance into effort, so if you do have class imbalances, pay attention to this metric.\n",
        "\n",
        "**Weighted avg** - Short for weighted average, the weighted average precision, recall and F1 score between classes. Weighted means each metric is calculated with respect to how many samples there are in each class. This metric will favour the majority class (e.g. will give a high value when one class out performs another due to having more samples)."
      ]
    },
    {
      "cell_type": "code",
      "metadata": {
        "colab": {
          "base_uri": "https://localhost:8080/",
          "height": 296
        },
        "id": "0edYcM5_F3Nz",
        "outputId": "40433c02-42e7-42ba-9690-c33bda5166a4"
      },
      "source": [
        "# Import plot_roc_curve from sklearn's metrics module\n",
        "from sklearn.metrics import plot_roc_curve\n",
        "\n",
        "# Plot a ROC curve using our current model using plot_roc_curve\n",
        "plot_roc_curve(log, X_test, y_test)"
      ],
      "execution_count": null,
      "outputs": [
        {
          "output_type": "execute_result",
          "data": {
            "text/plain": [
              "<sklearn.metrics._plot.roc_curve.RocCurveDisplay at 0x7f3557847e10>"
            ]
          },
          "metadata": {
            "tags": []
          },
          "execution_count": 54
        },
        {
          "output_type": "display_data",
          "data": {
            "image/png": "[encoded data removed]",
            "text/plain": [
              "<Figure size 432x288 with 1 Axes>"
            ]
          },
          "metadata": {
            "tags": [],
            "needs_background": "light"
          }
        }
      ]
    },
    {
      "cell_type": "markdown",
      "metadata": {
        "id": "g2lIH26tQHNI"
      },
      "source": [
        "### K-Nearest Neighbors"
      ]
    },
    {
      "cell_type": "code",
      "metadata": {
        "id": "DtKAltGOTRY7"
      },
      "source": [
        "# Import KNeighborsClassifier frrom sklearn's neighbors module\r\n",
        "from sklearn.neighbors import KNeighborsClassifier\r\n",
        "\r\n",
        "# Create an instance of KNeighborsClassifier as knc\r\n",
        "knc = KNeighborsClassifier(n_neighbors=7)"
      ],
      "execution_count": null,
      "outputs": []
    },
    {
      "cell_type": "code",
      "metadata": {
        "colab": {
          "base_uri": "https://localhost:8080/"
        },
        "id": "YF-4jHVFQpCw",
        "outputId": "9e04d051-854d-4d1b-ef35-515934494fff"
      },
      "source": [
        "# Fit the KNeighborsClassifier to the training data\r\n",
        "\r\n",
        "knc.fit(X_train, y_train)"
      ],
      "execution_count": null,
      "outputs": [
        {
          "output_type": "execute_result",
          "data": {
            "text/plain": [
              "KNeighborsClassifier(algorithm='auto', leaf_size=30, metric='minkowski',\n",
              "                     metric_params=None, n_jobs=None, n_neighbors=7, p=2,\n",
              "                     weights='uniform')"
            ]
          },
          "metadata": {
            "tags": []
          },
          "execution_count": 68
        }
      ]
    },
    {
      "cell_type": "code",
      "metadata": {
        "id": "uvOwvXL6Q9oh"
      },
      "source": [
        "# Use the fitted model to make predictions on the test data and\r\n",
        "# store the predictions to a variable called pred\r\n",
        "\r\n",
        "pred = knc.predict(X_test)"
      ],
      "execution_count": null,
      "outputs": []
    },
    {
      "cell_type": "code",
      "metadata": {
        "colab": {
          "base_uri": "https://localhost:8080/"
        },
        "id": "Keitr9XdRU0R",
        "outputId": "23d81df2-290a-459c-c8c4-9d2c88d1fe53"
      },
      "source": [
        "knc.score(X_test, y_test)"
      ],
      "execution_count": null,
      "outputs": [
        {
          "output_type": "execute_result",
          "data": {
            "text/plain": [
              "0.8835311875331456"
            ]
          },
          "metadata": {
            "tags": []
          },
          "execution_count": 70
        }
      ]
    },
    {
      "cell_type": "code",
      "metadata": {
        "colab": {
          "base_uri": "https://localhost:8080/"
        },
        "id": "htFY2BiWRgkJ",
        "outputId": "33280505-fb16-4209-bea6-e1dc58cbe37b"
      },
      "source": [
        "# # Fit the test labels and predictions into confusion_matrix and\r\n",
        "# print the matrix\r\n",
        "print(confusion_matrix(y_test, pred))"
      ],
      "execution_count": null,
      "outputs": [
        {
          "output_type": "stream",
          "text": [
            "[[21625   113]\n",
            " [ 2742    33]]\n"
          ],
          "name": "stdout"
        }
      ]
    },
    {
      "cell_type": "code",
      "metadata": {
        "colab": {
          "base_uri": "https://localhost:8080/",
          "height": 397
        },
        "id": "lziK-htdRppJ",
        "outputId": "9c16007a-3780-4b69-9b1a-95361c1a587f"
      },
      "source": [
        "# Make confusion matrix more visual\r\n",
        "def plot_conf_mat(y_test, y_preds):\r\n",
        "    \"\"\"\r\n",
        "    Plots a confusion matrix using Seaborn's heatmap().\r\n",
        "    \"\"\"\r\n",
        "    fig, ax = plt.subplots(figsize=(6, 5))\r\n",
        "    ax = sns.heatmap(confusion_matrix(y_test, y_preds),\r\n",
        "                     annot=True, # Annotate the boxes\r\n",
        "                     cbar=True,\r\n",
        "                     cmap='GnBu')\r\n",
        "    plt.xlabel(\"Predicted label\")\r\n",
        "    plt.ylabel(\"True label\")\r\n",
        "\r\n",
        "\r\n",
        "# Call plot_conf_mat with the test labels and predictions\r\n",
        "plot_conf_mat(y_test, pred)\r\n",
        "\r\n",
        "\r\n",
        "# Give the matrix a title\r\n",
        "score = round(log.score(X_test, y_test), 2)\r\n",
        "plt.title(f'K-Neighbors \\n Accuracy {score}\\n')"
      ],
      "execution_count": null,
      "outputs": [
        {
          "output_type": "execute_result",
          "data": {
            "text/plain": [
              "Text(0.5, 1.0, 'K-Neighbors \\n Accuracy 0.89\\n')"
            ]
          },
          "metadata": {
            "tags": []
          },
          "execution_count": 72
        },
        {
          "output_type": "display_data",
          "data": {
            "image/png": "[encoded data removed]",
            "text/plain": [
              "<Figure size 432x360 with 2 Axes>"
            ]
          },
          "metadata": {
            "tags": [],
            "needs_background": "light"
          }
        }
      ]
    },
    {
      "cell_type": "code",
      "metadata": {
        "colab": {
          "base_uri": "https://localhost:8080/"
        },
        "id": "mdRMREKZRw7Z",
        "outputId": "21bd62f7-b2b3-4a92-ca1b-af3e2f95f3b7"
      },
      "source": [
        "# Fit the test labels and predictions into classification_report and\r\n",
        "# print the report\r\n",
        "print(classification_report(y_test,pred))"
      ],
      "execution_count": null,
      "outputs": [
        {
          "output_type": "stream",
          "text": [
            "              precision    recall  f1-score   support\n",
            "\n",
            "           0       0.89      0.99      0.94     21738\n",
            "           1       0.23      0.01      0.02      2775\n",
            "\n",
            "    accuracy                           0.88     24513\n",
            "   macro avg       0.56      0.50      0.48     24513\n",
            "weighted avg       0.81      0.88      0.83     24513\n",
            "\n"
          ],
          "name": "stdout"
        }
      ]
    },
    {
      "cell_type": "code",
      "metadata": {
        "colab": {
          "base_uri": "https://localhost:8080/",
          "height": 296
        },
        "id": "n7S4fMafSALR",
        "outputId": "163069f0-c73d-423d-e4f2-f24641a58d3f"
      },
      "source": [
        "# Plot a ROC curve using our current model using plot_roc_curve\r\n",
        "plot_roc_curve(knc, X_test, y_test)"
      ],
      "execution_count": null,
      "outputs": [
        {
          "output_type": "execute_result",
          "data": {
            "text/plain": [
              "<sklearn.metrics._plot.roc_curve.RocCurveDisplay at 0x7f355600ac18>"
            ]
          },
          "metadata": {
            "tags": []
          },
          "execution_count": 74
        },
        {
          "output_type": "display_data",
          "data": {
            "image/png": "[encoded data removed]",
            "text/plain": [
              "<Figure size 432x288 with 1 Axes>"
            ]
          },
          "metadata": {
            "tags": [],
            "needs_background": "light"
          }
        }
      ]
    }
  ]
}