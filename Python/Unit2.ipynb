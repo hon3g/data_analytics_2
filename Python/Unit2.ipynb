{
  "nbformat": 4,
  "nbformat_minor": 0,
  "metadata": {
    "colab": {
      "name": "Unit2.ipynb",
      "provenance": []
    },
    "kernelspec": {
      "name": "python3",
      "display_name": "Python 3"
    }
  },
  "cells": [
    {
      "cell_type": "code",
      "metadata": {
        "colab": {
          "base_uri": "https://localhost:8080/"
        },
        "id": "TnjO7b-_Hwkz",
        "outputId": "c73d3a32-7ef3-4f36-8fb4-cd4e8817e3f0"
      },
      "source": [
        "fname = 'Tina'\n",
        "lname = 'Brown'\n",
        "email = '@mail.com'\n",
        "\n",
        "print(fname.lower() + lname.lower() + email)"
      ],
      "execution_count": 1,
      "outputs": [
        {
          "output_type": "stream",
          "text": [
            "tinabrown@mail.com\n"
          ],
          "name": "stdout"
        }
      ]
    },
    {
      "cell_type": "code",
      "metadata": {
        "colab": {
          "base_uri": "https://localhost:8080/"
        },
        "id": "cxI_ui3sIpbv",
        "outputId": "60d777b7-e0f0-49bd-c6ab-8eb4911f0bcb"
      },
      "source": [
        "name = 'William'\n",
        "\n",
        "print(name.lower(), name.upper(), sep='\\n')"
      ],
      "execution_count": 2,
      "outputs": [
        {
          "output_type": "stream",
          "text": [
            "william\n",
            "WILLIAM\n"
          ],
          "name": "stdout"
        }
      ]
    },
    {
      "cell_type": "code",
      "metadata": {
        "colab": {
          "base_uri": "https://localhost:8080/"
        },
        "id": "8GZzdCwrJKPp",
        "outputId": "2369497f-a769-4f6c-fd1f-00276235647c"
      },
      "source": [
        "question = 'Do you want to hang out on the 15th of this month?'\n",
        "\n",
        "print(question)"
      ],
      "execution_count": 3,
      "outputs": [
        {
          "output_type": "stream",
          "text": [
            "Do you want to hang out on the 15th of this month?\n"
          ],
          "name": "stdout"
        }
      ]
    },
    {
      "cell_type": "code",
      "metadata": {
        "id": "liLKHLKjJ7Oj"
      },
      "source": [
        "name_list = [\n",
        "             'Martha'\n",
        "            ,'Janie'\n",
        "            ,'Diane'\n",
        "            ,'Ramiro'\n",
        "            ,'Holly'\n",
        "            ,'Blanca'\n",
        "            ,'Luther'\n",
        "            ,'Nick'\n",
        "            ,'Wendell'\n",
        "            ,'Silvia'\n",
        "             ]"
      ],
      "execution_count": 4,
      "outputs": []
    },
    {
      "cell_type": "code",
      "metadata": {
        "colab": {
          "base_uri": "https://localhost:8080/"
        },
        "id": "6oxFb_a-NaDH",
        "outputId": "5b40c99e-5caf-4720-b598-a27d300c17d6"
      },
      "source": [
        "for i in name_list:\n",
        "  print(i, end=' ')"
      ],
      "execution_count": 5,
      "outputs": [
        {
          "output_type": "stream",
          "text": [
            "Martha Janie Diane Ramiro Holly Blanca Luther Nick Wendell Silvia "
          ],
          "name": "stdout"
        }
      ]
    },
    {
      "cell_type": "code",
      "metadata": {
        "id": "KOtZV5idOApx"
      },
      "source": [
        ""
      ],
      "execution_count": 5,
      "outputs": []
    }
  ]
}