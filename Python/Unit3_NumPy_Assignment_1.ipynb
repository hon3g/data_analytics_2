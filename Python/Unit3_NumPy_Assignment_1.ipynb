{
 "cells": [
  {
   "cell_type": "markdown",
   "metadata": {
    "id": "Vgs8Kp4TidFQ"
   },
   "source": [
    "# Unit 3 - Advanced Python - NumPy - Assingment #1  "
   ]
  },
  {
   "cell_type": "markdown",
   "metadata": {
    "id": "_Hq7Ny79iwgD"
   },
   "source": [
    "## 1. Environment Set up"
   ]
  },
  {
   "cell_type": "code",
   "execution_count": 1,
   "metadata": {
    "id": "MiB4JCOP5FdJ"
   },
   "outputs": [],
   "source": [
    "import numpy as np"
   ]
  },
  {
   "cell_type": "code",
   "execution_count": 2,
   "metadata": {
    "id": "lotvpVpvlKsR"
   },
   "outputs": [],
   "source": [
    "#Dataset from summer Olympic London, year 2012\n",
    "np_olympic_country = np.array(['GBR','China','RUS','US','KOR','JPN','GER'])\n",
    "np_olympic_country_Gold = np.array([29,38,24,46,13,7,11])\n",
    "np_olympic_country_Silver = np.array([17,28,25,28,8,14,11])\n",
    "np_olympic_country_Bronze = np.array([19,22,32,29,7,17,14])"
   ]
  },
  {
   "cell_type": "code",
   "execution_count": null,
   "metadata": {
    "id": "oNXY-CfrlLbE"
   },
   "outputs": [],
   "source": []
  },
  {
   "cell_type": "markdown",
   "metadata": {
    "id": "io_27RSlizno"
   },
   "source": [
    "## 2.\tFind country with maximum gold"
   ]
  },
  {
   "cell_type": "code",
   "execution_count": 3,
   "metadata": {
    "id": "Dh1o5cAylSHB"
   },
   "outputs": [
    {
     "name": "stdout",
     "output_type": "stream",
     "text": [
      "['US']\n"
     ]
    }
   ],
   "source": [
    "max_ = np.max(np_olympic_country_Gold)\n",
    "index = np.where(np_olympic_country_Gold == max_)\n",
    "print(np_olympic_country[index])"
   ]
  },
  {
   "cell_type": "code",
   "execution_count": null,
   "metadata": {
    "id": "vs8ppR-wlSKL"
   },
   "outputs": [],
   "source": []
  },
  {
   "cell_type": "markdown",
   "metadata": {
    "id": "DAW8m8IQjRyR"
   },
   "source": [
    "## 3.\tFind countries with more than 20 gold medals"
   ]
  },
  {
   "cell_type": "code",
   "execution_count": 4,
   "metadata": {
    "id": "cv946RaOjw-G"
   },
   "outputs": [
    {
     "name": "stdout",
     "output_type": "stream",
     "text": [
      "['GBR' 'China' 'RUS' 'US']\n"
     ]
    }
   ],
   "source": [
    "i = np.where(np_olympic_country_Gold > 20)\n",
    "print(np_olympic_country[i])"
   ]
  },
  {
   "cell_type": "code",
   "execution_count": null,
   "metadata": {
    "id": "4oNKGU70llVg"
   },
   "outputs": [],
   "source": []
  },
  {
   "cell_type": "code",
   "execution_count": null,
   "metadata": {
    "id": "jjh2GdktllZY"
   },
   "outputs": [],
   "source": []
  },
  {
   "cell_type": "code",
   "execution_count": null,
   "metadata": {
    "id": "iHaRIrt8llcd"
   },
   "outputs": [],
   "source": []
  }
 ],
 "metadata": {
  "colab": {
   "collapsed_sections": [],
   "name": "Unit3_NumPy_Assignment_1.ipynb",
   "provenance": [],
   "toc_visible": true
  },
  "kernelspec": {
   "display_name": "Python 3",
   "language": "python",
   "name": "python3"
  },
  "language_info": {
   "codemirror_mode": {
    "name": "ipython",
    "version": 3
   },
   "file_extension": ".py",
   "mimetype": "text/x-python",
   "name": "python",
   "nbconvert_exporter": "python",
   "pygments_lexer": "ipython3",
   "version": "3.8.3"
  }
 },
 "nbformat": 4,
 "nbformat_minor": 1
}
