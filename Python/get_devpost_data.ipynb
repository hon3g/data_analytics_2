{
 "cells": [
  {
   "cell_type": "code",
   "execution_count": 1,
   "metadata": {},
   "outputs": [],
   "source": [
    "from selenium import webdriver\n",
    "import time\n",
    "import random\n",
    "import pandas as pd\n",
    "import numpy as np"
   ]
  },
  {
   "cell_type": "code",
   "execution_count": 2,
   "metadata": {},
   "outputs": [],
   "source": [
    "url = 'https://the-cuny-hackathon-2021.devpost.com/participants'\n",
    "path = r'C:\\Users\\Hong\\Desktop\\chromedriver'"
   ]
  },
  {
   "cell_type": "code",
   "execution_count": 3,
   "metadata": {},
   "outputs": [],
   "source": [
    "# Go on devpost and login\n",
    "\n",
    "driver = webdriver.Chrome(executable_path = path)\n",
    "driver.get(url)\n",
    "\n",
    "driver.find_element_by_id('main-link').click()\n",
    "driver.find_element_by_link_text('Log in with GitHub').click()\n",
    "\n",
    "with open('github_pw.txt', 'r') as f:\n",
    "    pw = f.read()\n",
    "    \n",
    "driver.find_element_by_id('login_field').send_keys('hon3g')\n",
    "driver.find_element_by_id('password').send_keys(pw)\n",
    "driver.find_element_by_xpath('//*[@id=\"login\"]/div[3]/form/input[14]').click()"
   ]
  },
  {
   "cell_type": "code",
   "execution_count": 4,
   "metadata": {},
   "outputs": [
    {
     "name": "stdout",
     "output_type": "stream",
     "text": [
      "Finished scrolling in: 60 seconds\n"
     ]
    }
   ],
   "source": [
    "# Make a scroller function\n",
    "\n",
    "def anti_lazy_loader(sec):\n",
    "    start_time = time.time()\n",
    "    seconds = sec\n",
    "\n",
    "    while True:\n",
    "        driver.execute_script(\"window.scrollTo(0, document.body.scrollHeight);\")\n",
    "        \n",
    "        current_time = time.time()\n",
    "        elapsed_time = current_time - start_time\n",
    "        if elapsed_time > seconds:\n",
    "            print(\"Finished scrolling in: \" + str(int(elapsed_time))  + \" seconds\")\n",
    "            break\n",
    "            \n",
    "            \n",
    "anti_lazy_loader(60)"
   ]
  },
  {
   "cell_type": "code",
   "execution_count": 5,
   "metadata": {},
   "outputs": [],
   "source": [
    "# Get all participants' profile links\n",
    "\n",
    "links = []\n",
    "for e in driver.find_elements_by_xpath('//*[@id=\"participants\"]//div[1]/div[2]/div/h5/a'):\n",
    "    links.append(e.get_attribute('href'))"
   ]
  },
  {
   "cell_type": "code",
   "execution_count": 6,
   "metadata": {},
   "outputs": [
    {
     "name": "stdout",
     "output_type": "stream",
     "text": [
      "len: 484\n"
     ]
    },
    {
     "data": {
      "text/plain": [
       "['https://devpost.com/muskangargnsit',\n",
       " 'https://devpost.com/KarmaGyatso',\n",
       " 'https://devpost.com/ilkyulee-business',\n",
       " 'https://devpost.com/jaheimarchibald',\n",
       " 'https://devpost.com/jashpuja',\n",
       " 'https://devpost.com/paez-edward5',\n",
       " 'https://devpost.com/gurung-karmat',\n",
       " 'https://devpost.com/MajorLeagueHacking',\n",
       " 'https://devpost.com/andrew-lu1',\n",
       " 'https://devpost.com/efazahmededu']"
      ]
     },
     "execution_count": 6,
     "metadata": {},
     "output_type": "execute_result"
    }
   ],
   "source": [
    "# Get the len and random sample 10 links\n",
    "\n",
    "print(f'len: {len(links)}')\n",
    "random.sample(links, 10)"
   ]
  },
  {
   "cell_type": "code",
   "execution_count": 7,
   "metadata": {},
   "outputs": [
    {
     "name": "stdout",
     "output_type": "stream",
     "text": [
      "Finished fetching in: 85.27 minutes!\n"
     ]
    }
   ],
   "source": [
    "# Time the fetching process\n",
    "start = time.perf_counter()\n",
    "\n",
    "\n",
    "# Create a hacker dictionary\n",
    "hacker = {\n",
    "    'name'       : [],\n",
    "    'location'   : [],\n",
    "    'skills'     : [],\n",
    "    'interests'  : [],\n",
    "    'projects'   : [],\n",
    "    'hackathon'  : [],\n",
    "    'achievement': [],\n",
    "    'followers'  : [],\n",
    "    'following'  : [],\n",
    "    'likes'      : [],\n",
    "}\n",
    "\n",
    "\n",
    "# Loop through each participant\n",
    "for l in links:\n",
    "    driver.get(l)\n",
    "    \n",
    "    \n",
    "    # Get name\n",
    "    try:\n",
    "        e = driver.find_elements_by_xpath('//*[@id=\"portfolio-user-name\"]')[0]\n",
    "        name = e.text[: e.text.index('(') - 1].title()\n",
    "\n",
    "        hacker['name'].append(name)\n",
    "    ## Someone keeps changing names\n",
    "    except IndexError:\n",
    "        continue\n",
    "    \n",
    "    \n",
    "    # Get location\n",
    "    try:\n",
    "        e = driver.find_elements_by_xpath('//*[@id=\"portfolio-user-links\"]/li[1]')[0]\n",
    "        if e.text in {'GitHub', 'LinkedIn', 'Website'}:\n",
    "            location = '?'\n",
    "        location = e.text\n",
    "    except IndexError:\n",
    "        location = '?'\n",
    "        \n",
    "    hacker['location'].append(location)\n",
    "    \n",
    "    \n",
    "    # Get skills\n",
    "    skills = []\n",
    "    for i in range(999):\n",
    "        try:\n",
    "            e = driver.find_elements_by_xpath('//*[@id=\"portfolio-user-info\"]/div/div/div[1]/ul/li')[i]\n",
    "            skills.append(e.text)\n",
    "        except IndexError:\n",
    "            break\n",
    "    hacker['skills'].append(skills)\n",
    "    \n",
    "    \n",
    "    # Get interests\n",
    "    interests = []\n",
    "    for i in range(999):\n",
    "        try:\n",
    "            e = driver.find_elements_by_xpath('//*[@id=\"portfolio-user-info\"]/div/div/div[2]/ul/li')[i]\n",
    "            interests.append(e.text)\n",
    "        except IndexError:\n",
    "            break\n",
    "    hacker['interests'].append(interests)\n",
    "            \n",
    "    \n",
    "    # Get projects, hackathon, achievement, followers, following, and likes\n",
    "    loc = 1\n",
    "    for i in ('projects', 'hackathon', 'achievement', 'followers', 'following', 'likes'):\n",
    "        e = driver.find_elements_by_xpath(f'//*[@id=\"portfolio-navigation\"]/ul/li[{loc}]/a/div/span')[0]\n",
    "        hacker[i].append(e.text)\n",
    "        loc += 1\n",
    "\n",
    "\n",
    "\n",
    "end = time.perf_counter()\n",
    "mins = round((end - start) / 60,  1)\n",
    "print(f'Finished fetching in: {mins} minutes!')"
   ]
  },
  {
   "cell_type": "code",
   "execution_count": 8,
   "metadata": {},
   "outputs": [],
   "source": [
    "# Convert hacker ditionary into a pandas dataframe and\n",
    "# Replace all missing values ?s with numpy nan\n",
    "\n",
    "df = pd.DataFrame(hacker)\n",
    "df.replace('?', np.nan, inplace=True)"
   ]
  },
  {
   "cell_type": "code",
   "execution_count": 9,
   "metadata": {},
   "outputs": [
    {
     "name": "stdout",
     "output_type": "stream",
     "text": [
      "<class 'pandas.core.frame.DataFrame'>\n",
      "RangeIndex: 483 entries, 0 to 482\n",
      "Data columns (total 10 columns):\n",
      " #   Column       Non-Null Count  Dtype \n",
      "---  ------       --------------  ----- \n",
      " 0   name         483 non-null    object\n",
      " 1   location     462 non-null    object\n",
      " 2   skills       483 non-null    object\n",
      " 3   interests    483 non-null    object\n",
      " 4   projects     483 non-null    object\n",
      " 5   hackathon    483 non-null    object\n",
      " 6   achievement  483 non-null    object\n",
      " 7   followers    483 non-null    object\n",
      " 8   following    483 non-null    object\n",
      " 9   likes        483 non-null    object\n",
      "dtypes: object(10)\n",
      "memory usage: 37.9+ KB\n"
     ]
    }
   ],
   "source": [
    "df.info()"
   ]
  },
  {
   "cell_type": "code",
   "execution_count": 11,
   "metadata": {},
   "outputs": [
    {
     "data": {
      "text/html": [
       "<div>\n",
       "<style scoped>\n",
       "    .dataframe tbody tr th:only-of-type {\n",
       "        vertical-align: middle;\n",
       "    }\n",
       "\n",
       "    .dataframe tbody tr th {\n",
       "        vertical-align: top;\n",
       "    }\n",
       "\n",
       "    .dataframe thead th {\n",
       "        text-align: right;\n",
       "    }\n",
       "</style>\n",
       "<table border=\"1\" class=\"dataframe\">\n",
       "  <thead>\n",
       "    <tr style=\"text-align: right;\">\n",
       "      <th></th>\n",
       "      <th>name</th>\n",
       "      <th>location</th>\n",
       "      <th>skills</th>\n",
       "      <th>interests</th>\n",
       "      <th>projects</th>\n",
       "      <th>hackathon</th>\n",
       "      <th>achievement</th>\n",
       "      <th>followers</th>\n",
       "      <th>following</th>\n",
       "      <th>likes</th>\n",
       "    </tr>\n",
       "  </thead>\n",
       "  <tbody>\n",
       "    <tr>\n",
       "      <th>103</th>\n",
       "      <td>Mohamed Kone</td>\n",
       "      <td>East Orange, New Jersey, United States</td>\n",
       "      <td>[java, c++, sql, python, r]</td>\n",
       "      <td>[AR/VR, Blockchain, Communication, Cybersecuri...</td>\n",
       "      <td>0</td>\n",
       "      <td>1</td>\n",
       "      <td>1</td>\n",
       "      <td>0</td>\n",
       "      <td>0</td>\n",
       "      <td>0</td>\n",
       "    </tr>\n",
       "    <tr>\n",
       "      <th>185</th>\n",
       "      <td>Anik Barua</td>\n",
       "      <td>New York, New York, United States</td>\n",
       "      <td>[java, html, css, c++, javascript]</td>\n",
       "      <td>[Blockchain, Gaming, Healthcare, Machine Learn...</td>\n",
       "      <td>0</td>\n",
       "      <td>1</td>\n",
       "      <td>1</td>\n",
       "      <td>0</td>\n",
       "      <td>0</td>\n",
       "      <td>0</td>\n",
       "    </tr>\n",
       "    <tr>\n",
       "      <th>224</th>\n",
       "      <td>Jia Yu Lin</td>\n",
       "      <td>Website</td>\n",
       "      <td>[]</td>\n",
       "      <td>[]</td>\n",
       "      <td>5</td>\n",
       "      <td>4</td>\n",
       "      <td>9</td>\n",
       "      <td>8</td>\n",
       "      <td>4</td>\n",
       "      <td>2</td>\n",
       "    </tr>\n",
       "    <tr>\n",
       "      <th>156</th>\n",
       "      <td>Rohith1221 Rohith</td>\n",
       "      <td>Andhra Pradesh, India</td>\n",
       "      <td>[javascript, html, css, c++, python]</td>\n",
       "      <td>[AR/VR, Blockchain, IoT, Machine Learning/ AI]</td>\n",
       "      <td>0</td>\n",
       "      <td>1</td>\n",
       "      <td>1</td>\n",
       "      <td>0</td>\n",
       "      <td>0</td>\n",
       "      <td>0</td>\n",
       "    </tr>\n",
       "    <tr>\n",
       "      <th>161</th>\n",
       "      <td>Randeep Ahlawat</td>\n",
       "      <td>Dallas, Texas, United States</td>\n",
       "      <td>[python, pytorch, tensorflow, c++, javascript]</td>\n",
       "      <td>[Machine Learning/ AI, Music, Social Good]</td>\n",
       "      <td>0</td>\n",
       "      <td>3</td>\n",
       "      <td>1</td>\n",
       "      <td>0</td>\n",
       "      <td>0</td>\n",
       "      <td>0</td>\n",
       "    </tr>\n",
       "    <tr>\n",
       "      <th>105</th>\n",
       "      <td>Ismael Belem</td>\n",
       "      <td>New York, New York, United States</td>\n",
       "      <td>[java, python, r]</td>\n",
       "      <td>[Cybersecurity, Lifehacks, Machine Learning/ AI]</td>\n",
       "      <td>0</td>\n",
       "      <td>1</td>\n",
       "      <td>1</td>\n",
       "      <td>0</td>\n",
       "      <td>0</td>\n",
       "      <td>0</td>\n",
       "    </tr>\n",
       "    <tr>\n",
       "      <th>220</th>\n",
       "      <td>Jamesdeciutiis Deciutiis</td>\n",
       "      <td>New York, New York, United States</td>\n",
       "      <td>[c++, javascript, python]</td>\n",
       "      <td>[Blockchain, Fintech, Gaming, IoT, Lifehacks, ...</td>\n",
       "      <td>0</td>\n",
       "      <td>1</td>\n",
       "      <td>1</td>\n",
       "      <td>0</td>\n",
       "      <td>0</td>\n",
       "      <td>0</td>\n",
       "    </tr>\n",
       "    <tr>\n",
       "      <th>253</th>\n",
       "      <td>Chanchal Bansal</td>\n",
       "      <td>Porsa, MP, IN</td>\n",
       "      <td>[html5, css, python, bootstrap, c, c++, google...</td>\n",
       "      <td>[Communication, Machine Learning/ AI]</td>\n",
       "      <td>0</td>\n",
       "      <td>6</td>\n",
       "      <td>1</td>\n",
       "      <td>0</td>\n",
       "      <td>0</td>\n",
       "      <td>0</td>\n",
       "    </tr>\n",
       "    <tr>\n",
       "      <th>248</th>\n",
       "      <td>Shivanshu Sahoo</td>\n",
       "      <td>NaN</td>\n",
       "      <td>[]</td>\n",
       "      <td>[]</td>\n",
       "      <td>4</td>\n",
       "      <td>16</td>\n",
       "      <td>5</td>\n",
       "      <td>6</td>\n",
       "      <td>3</td>\n",
       "      <td>6</td>\n",
       "    </tr>\n",
       "    <tr>\n",
       "      <th>359</th>\n",
       "      <td>Vinay Sati</td>\n",
       "      <td>Ghaziabad, UP, IN</td>\n",
       "      <td>[html, javascript, java, sql]</td>\n",
       "      <td>[Cybersecurity, Voice skills]</td>\n",
       "      <td>0</td>\n",
       "      <td>5</td>\n",
       "      <td>1</td>\n",
       "      <td>0</td>\n",
       "      <td>0</td>\n",
       "      <td>0</td>\n",
       "    </tr>\n",
       "  </tbody>\n",
       "</table>\n",
       "</div>"
      ],
      "text/plain": [
       "                         name                                location  \\\n",
       "103              Mohamed Kone  East Orange, New Jersey, United States   \n",
       "185                Anik Barua       New York, New York, United States   \n",
       "224                Jia Yu Lin                                 Website   \n",
       "156         Rohith1221 Rohith                   Andhra Pradesh, India   \n",
       "161           Randeep Ahlawat            Dallas, Texas, United States   \n",
       "105              Ismael Belem       New York, New York, United States   \n",
       "220  Jamesdeciutiis Deciutiis       New York, New York, United States   \n",
       "253           Chanchal Bansal                           Porsa, MP, IN   \n",
       "248           Shivanshu Sahoo                                     NaN   \n",
       "359                Vinay Sati                       Ghaziabad, UP, IN   \n",
       "\n",
       "                                                skills  \\\n",
       "103                        [java, c++, sql, python, r]   \n",
       "185                 [java, html, css, c++, javascript]   \n",
       "224                                                 []   \n",
       "156               [javascript, html, css, c++, python]   \n",
       "161     [python, pytorch, tensorflow, c++, javascript]   \n",
       "105                                  [java, python, r]   \n",
       "220                          [c++, javascript, python]   \n",
       "253  [html5, css, python, bootstrap, c, c++, google...   \n",
       "248                                                 []   \n",
       "359                      [html, javascript, java, sql]   \n",
       "\n",
       "                                             interests projects hackathon  \\\n",
       "103  [AR/VR, Blockchain, Communication, Cybersecuri...        0         1   \n",
       "185  [Blockchain, Gaming, Healthcare, Machine Learn...        0         1   \n",
       "224                                                 []        5         4   \n",
       "156     [AR/VR, Blockchain, IoT, Machine Learning/ AI]        0         1   \n",
       "161         [Machine Learning/ AI, Music, Social Good]        0         3   \n",
       "105   [Cybersecurity, Lifehacks, Machine Learning/ AI]        0         1   \n",
       "220  [Blockchain, Fintech, Gaming, IoT, Lifehacks, ...        0         1   \n",
       "253              [Communication, Machine Learning/ AI]        0         6   \n",
       "248                                                 []        4        16   \n",
       "359                      [Cybersecurity, Voice skills]        0         5   \n",
       "\n",
       "    achievement followers following likes  \n",
       "103           1         0         0     0  \n",
       "185           1         0         0     0  \n",
       "224           9         8         4     2  \n",
       "156           1         0         0     0  \n",
       "161           1         0         0     0  \n",
       "105           1         0         0     0  \n",
       "220           1         0         0     0  \n",
       "253           1         0         0     0  \n",
       "248           5         6         3     6  \n",
       "359           1         0         0     0  "
      ]
     },
     "execution_count": 11,
     "metadata": {},
     "output_type": "execute_result"
    }
   ],
   "source": [
    "df.sample(10)"
   ]
  },
  {
   "cell_type": "code",
   "execution_count": 18,
   "metadata": {},
   "outputs": [],
   "source": [
    "import matplotlib.pyplot as plt\n",
    "import seaborn as sns"
   ]
  },
  {
   "cell_type": "code",
   "execution_count": 22,
   "metadata": {},
   "outputs": [
    {
     "data": {
      "text/plain": [
       "Text(0.5, 1.0, 'NaN Data')"
      ]
     },
     "execution_count": 22,
     "metadata": {},
     "output_type": "execute_result"
    },
    {
     "data": {
      "image/png": "[encoded data removed]",
      "text/plain": [
       "<Figure size 576x360 with 1 Axes>"
      ]
     },
     "metadata": {
      "needs_background": "light"
     },
     "output_type": "display_data"
    }
   ],
   "source": [
    "# Visualize the missing data\n",
    "\n",
    "plt.figure(figsize=(8, 5))\n",
    "sns.heatmap(df.isnull(), yticklabels=False, cbar=False)\n",
    "plt.title('NaN Data')"
   ]
  },
  {
   "cell_type": "code",
   "execution_count": 26,
   "metadata": {},
   "outputs": [
    {
     "data": {
      "text/plain": [
       "Text(0.5, 1.0, 'NaN Data')"
      ]
     },
     "execution_count": 26,
     "metadata": {},
     "output_type": "execute_result"
    },
    {
     "data": {
      "image/png": "[encoded data removed]",
      "text/plain": [
       "<Figure size 576x360 with 1 Axes>"
      ]
     },
     "metadata": {
      "needs_background": "light"
     },
     "output_type": "display_data"
    }
   ],
   "source": [
    "plt.figure(figsize=(8, 5))\n",
    "missing = pd.DataFrame({'column':df.columns, 'na_percent':df.isnull().sum()/len(df)*100})\n",
    "missing.sort_values('na_percent', ascending=False, inplace=True)\n",
    "plt.bar(missing['column'], missing['na_percent'])\n",
    "plt.ylabel('%')\n",
    "plt.xticks(rotation=90)\n",
    "plt.title('NaN Data')"
   ]
  },
  {
   "cell_type": "code",
   "execution_count": null,
   "metadata": {},
   "outputs": [],
   "source": []
  }
 ],
 "metadata": {
  "kernelspec": {
   "display_name": "Python 3",
   "language": "python",
   "name": "python3"
  },
  "language_info": {
   "codemirror_mode": {
    "name": "ipython",
    "version": 3
   },
   "file_extension": ".py",
   "mimetype": "text/x-python",
   "name": "python",
   "nbconvert_exporter": "python",
   "pygments_lexer": "ipython3",
   "version": "3.8.5"
  }
 },
 "nbformat": 4,
 "nbformat_minor": 4
}
